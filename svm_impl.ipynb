{
 "cells": [
  {
   "cell_type": "markdown",
   "metadata": {},
   "source": [
    "# Support Vector Machine Implementation"
   ]
  },
  {
   "cell_type": "markdown",
   "metadata": {},
   "source": [
    "### Import required libraries"
   ]
  },
  {
   "cell_type": "code",
   "execution_count": 192,
   "metadata": {},
   "outputs": [],
   "source": [
    "import pandas as pd\n",
    "import matplotlib.pyplot as plt\n",
    "from sklearn.model_selection import train_test_split\n",
    "from sklearn.svm import SVC\n",
    "from sklearn.metrics import ConfusionMatrixDisplay, confusion_matrix, accuracy_score, classification_report\n",
    "from sklearn.preprocessing import LabelEncoder, StandardScaler"
   ]
  },
  {
   "cell_type": "markdown",
   "metadata": {},
   "source": [
    "### Load the dataset"
   ]
  },
  {
   "cell_type": "code",
   "execution_count": 193,
   "metadata": {},
   "outputs": [],
   "source": [
    "seed_data = pd.read_csv(\"seeds_dataset.csv\")"
   ]
  },
  {
   "cell_type": "code",
   "execution_count": 194,
   "metadata": {},
   "outputs": [
    {
     "data": {
      "text/html": [
       "<div>\n",
       "<style scoped>\n",
       "    .dataframe tbody tr th:only-of-type {\n",
       "        vertical-align: middle;\n",
       "    }\n",
       "\n",
       "    .dataframe tbody tr th {\n",
       "        vertical-align: top;\n",
       "    }\n",
       "\n",
       "    .dataframe thead th {\n",
       "        text-align: right;\n",
       "    }\n",
       "</style>\n",
       "<table border=\"1\" class=\"dataframe\">\n",
       "  <thead>\n",
       "    <tr style=\"text-align: right;\">\n",
       "      <th></th>\n",
       "      <th>area</th>\n",
       "      <th>perimeter</th>\n",
       "      <th>compactness</th>\n",
       "      <th>length</th>\n",
       "      <th>width</th>\n",
       "      <th>asymmetry</th>\n",
       "      <th>groove_length</th>\n",
       "      <th>LABEL</th>\n",
       "    </tr>\n",
       "  </thead>\n",
       "  <tbody>\n",
       "    <tr>\n",
       "      <th>0</th>\n",
       "      <td>12.05</td>\n",
       "      <td>13.41</td>\n",
       "      <td>0.8416</td>\n",
       "      <td>5.267</td>\n",
       "      <td>2.847</td>\n",
       "      <td>4.988</td>\n",
       "      <td>5.046</td>\n",
       "      <td>Canadian</td>\n",
       "    </tr>\n",
       "    <tr>\n",
       "      <th>1</th>\n",
       "      <td>13.07</td>\n",
       "      <td>13.92</td>\n",
       "      <td>0.8480</td>\n",
       "      <td>5.472</td>\n",
       "      <td>2.994</td>\n",
       "      <td>5.304</td>\n",
       "      <td>5.395</td>\n",
       "      <td>Canadian</td>\n",
       "    </tr>\n",
       "    <tr>\n",
       "      <th>2</th>\n",
       "      <td>10.59</td>\n",
       "      <td>12.41</td>\n",
       "      <td>0.8648</td>\n",
       "      <td>4.899</td>\n",
       "      <td>2.787</td>\n",
       "      <td>4.975</td>\n",
       "      <td>4.794</td>\n",
       "      <td>Canadian</td>\n",
       "    </tr>\n",
       "    <tr>\n",
       "      <th>3</th>\n",
       "      <td>11.82</td>\n",
       "      <td>13.40</td>\n",
       "      <td>0.8274</td>\n",
       "      <td>5.314</td>\n",
       "      <td>2.777</td>\n",
       "      <td>4.471</td>\n",
       "      <td>5.178</td>\n",
       "      <td>Canadian</td>\n",
       "    </tr>\n",
       "    <tr>\n",
       "      <th>4</th>\n",
       "      <td>12.11</td>\n",
       "      <td>13.27</td>\n",
       "      <td>0.8639</td>\n",
       "      <td>5.236</td>\n",
       "      <td>2.975</td>\n",
       "      <td>4.132</td>\n",
       "      <td>5.012</td>\n",
       "      <td>Canadian</td>\n",
       "    </tr>\n",
       "  </tbody>\n",
       "</table>\n",
       "</div>"
      ],
      "text/plain": [
       "    area  perimeter  compactness  length  width  asymmetry  groove_length  \\\n",
       "0  12.05      13.41       0.8416   5.267  2.847      4.988          5.046   \n",
       "1  13.07      13.92       0.8480   5.472  2.994      5.304          5.395   \n",
       "2  10.59      12.41       0.8648   4.899  2.787      4.975          4.794   \n",
       "3  11.82      13.40       0.8274   5.314  2.777      4.471          5.178   \n",
       "4  12.11      13.27       0.8639   5.236  2.975      4.132          5.012   \n",
       "\n",
       "      LABEL  \n",
       "0  Canadian  \n",
       "1  Canadian  \n",
       "2  Canadian  \n",
       "3  Canadian  \n",
       "4  Canadian  "
      ]
     },
     "execution_count": 194,
     "metadata": {},
     "output_type": "execute_result"
    }
   ],
   "source": [
    "seed_data.head()"
   ]
  },
  {
   "cell_type": "code",
   "execution_count": 195,
   "metadata": {},
   "outputs": [
    {
     "data": {
      "text/plain": [
       "(90, 8)"
      ]
     },
     "execution_count": 195,
     "metadata": {},
     "output_type": "execute_result"
    }
   ],
   "source": [
    "seed_data.shape"
   ]
  },
  {
   "cell_type": "code",
   "execution_count": 196,
   "metadata": {},
   "outputs": [
    {
     "data": {
      "text/plain": [
       "area             float64\n",
       "perimeter        float64\n",
       "compactness      float64\n",
       "length           float64\n",
       "width            float64\n",
       "asymmetry        float64\n",
       "groove_length    float64\n",
       "LABEL             object\n",
       "dtype: object"
      ]
     },
     "execution_count": 196,
     "metadata": {},
     "output_type": "execute_result"
    }
   ],
   "source": [
    "seed_data.dtypes"
   ]
  },
  {
   "cell_type": "code",
   "execution_count": 197,
   "metadata": {},
   "outputs": [
    {
     "data": {
      "text/plain": [
       "area             0\n",
       "perimeter        0\n",
       "compactness      0\n",
       "length           0\n",
       "width            0\n",
       "asymmetry        0\n",
       "groove_length    0\n",
       "LABEL            0\n",
       "dtype: int64"
      ]
     },
     "execution_count": 197,
     "metadata": {},
     "output_type": "execute_result"
    }
   ],
   "source": [
    "seed_data.isnull().sum()"
   ]
  },
  {
   "cell_type": "code",
   "execution_count": 198,
   "metadata": {},
   "outputs": [
    {
     "data": {
      "text/html": [
       "<div>\n",
       "<style scoped>\n",
       "    .dataframe tbody tr th:only-of-type {\n",
       "        vertical-align: middle;\n",
       "    }\n",
       "\n",
       "    .dataframe tbody tr th {\n",
       "        vertical-align: top;\n",
       "    }\n",
       "\n",
       "    .dataframe thead th {\n",
       "        text-align: right;\n",
       "    }\n",
       "</style>\n",
       "<table border=\"1\" class=\"dataframe\">\n",
       "  <thead>\n",
       "    <tr style=\"text-align: right;\">\n",
       "      <th></th>\n",
       "      <th>area</th>\n",
       "      <th>perimeter</th>\n",
       "      <th>compactness</th>\n",
       "      <th>length</th>\n",
       "      <th>width</th>\n",
       "      <th>asymmetry</th>\n",
       "      <th>groove_length</th>\n",
       "    </tr>\n",
       "  </thead>\n",
       "  <tbody>\n",
       "    <tr>\n",
       "      <th>count</th>\n",
       "      <td>90.000000</td>\n",
       "      <td>90.000000</td>\n",
       "      <td>90.000000</td>\n",
       "      <td>90.000000</td>\n",
       "      <td>90.000000</td>\n",
       "      <td>90.000000</td>\n",
       "      <td>90.000000</td>\n",
       "    </tr>\n",
       "    <tr>\n",
       "      <th>mean</th>\n",
       "      <td>14.922333</td>\n",
       "      <td>14.585556</td>\n",
       "      <td>0.871433</td>\n",
       "      <td>5.636878</td>\n",
       "      <td>3.268422</td>\n",
       "      <td>3.659169</td>\n",
       "      <td>5.409122</td>\n",
       "    </tr>\n",
       "    <tr>\n",
       "      <th>std</th>\n",
       "      <td>3.022909</td>\n",
       "      <td>1.332049</td>\n",
       "      <td>0.026874</td>\n",
       "      <td>0.437506</td>\n",
       "      <td>0.399180</td>\n",
       "      <td>1.506971</td>\n",
       "      <td>0.475133</td>\n",
       "    </tr>\n",
       "    <tr>\n",
       "      <th>min</th>\n",
       "      <td>10.590000</td>\n",
       "      <td>12.410000</td>\n",
       "      <td>0.808200</td>\n",
       "      <td>4.899000</td>\n",
       "      <td>2.630000</td>\n",
       "      <td>0.765100</td>\n",
       "      <td>4.605000</td>\n",
       "    </tr>\n",
       "    <tr>\n",
       "      <th>25%</th>\n",
       "      <td>12.207500</td>\n",
       "      <td>13.452500</td>\n",
       "      <td>0.856475</td>\n",
       "      <td>5.285250</td>\n",
       "      <td>2.909500</td>\n",
       "      <td>2.317750</td>\n",
       "      <td>5.069250</td>\n",
       "    </tr>\n",
       "    <tr>\n",
       "      <th>50%</th>\n",
       "      <td>14.610000</td>\n",
       "      <td>14.360000</td>\n",
       "      <td>0.877100</td>\n",
       "      <td>5.555500</td>\n",
       "      <td>3.263000</td>\n",
       "      <td>3.390000</td>\n",
       "      <td>5.226000</td>\n",
       "    </tr>\n",
       "    <tr>\n",
       "      <th>75%</th>\n",
       "      <td>17.045000</td>\n",
       "      <td>15.602500</td>\n",
       "      <td>0.890300</td>\n",
       "      <td>5.925250</td>\n",
       "      <td>3.561750</td>\n",
       "      <td>4.833000</td>\n",
       "      <td>5.826500</td>\n",
       "    </tr>\n",
       "    <tr>\n",
       "      <th>max</th>\n",
       "      <td>21.180000</td>\n",
       "      <td>17.250000</td>\n",
       "      <td>0.918300</td>\n",
       "      <td>6.579000</td>\n",
       "      <td>4.033000</td>\n",
       "      <td>8.315000</td>\n",
       "      <td>6.451000</td>\n",
       "    </tr>\n",
       "  </tbody>\n",
       "</table>\n",
       "</div>"
      ],
      "text/plain": [
       "            area  perimeter  compactness     length      width  asymmetry  \\\n",
       "count  90.000000  90.000000    90.000000  90.000000  90.000000  90.000000   \n",
       "mean   14.922333  14.585556     0.871433   5.636878   3.268422   3.659169   \n",
       "std     3.022909   1.332049     0.026874   0.437506   0.399180   1.506971   \n",
       "min    10.590000  12.410000     0.808200   4.899000   2.630000   0.765100   \n",
       "25%    12.207500  13.452500     0.856475   5.285250   2.909500   2.317750   \n",
       "50%    14.610000  14.360000     0.877100   5.555500   3.263000   3.390000   \n",
       "75%    17.045000  15.602500     0.890300   5.925250   3.561750   4.833000   \n",
       "max    21.180000  17.250000     0.918300   6.579000   4.033000   8.315000   \n",
       "\n",
       "       groove_length  \n",
       "count      90.000000  \n",
       "mean        5.409122  \n",
       "std         0.475133  \n",
       "min         4.605000  \n",
       "25%         5.069250  \n",
       "50%         5.226000  \n",
       "75%         5.826500  \n",
       "max         6.451000  "
      ]
     },
     "execution_count": 198,
     "metadata": {},
     "output_type": "execute_result"
    }
   ],
   "source": [
    "seed_data.describe()"
   ]
  },
  {
   "cell_type": "code",
   "execution_count": 199,
   "metadata": {},
   "outputs": [
    {
     "data": {
      "text/plain": [
       "LABEL\n",
       "Canadian    30\n",
       "Kama        30\n",
       "Rosa        30\n",
       "Name: count, dtype: int64"
      ]
     },
     "execution_count": 199,
     "metadata": {},
     "output_type": "execute_result"
    }
   ],
   "source": [
    "seed_data[\"LABEL\"].value_counts()"
   ]
  },
  {
   "cell_type": "markdown",
   "metadata": {},
   "source": [
    "The dataset is clean with no missing and null values"
   ]
  },
  {
   "cell_type": "markdown",
   "metadata": {},
   "source": [
    "### Endocing the label"
   ]
  },
  {
   "cell_type": "code",
   "execution_count": 200,
   "metadata": {},
   "outputs": [],
   "source": [
    "le = LabelEncoder()\n",
    "seed_data[\"LABEL\"] = le.fit_transform(seed_data[\"LABEL\"])\n"
   ]
  },
  {
   "cell_type": "markdown",
   "metadata": {},
   "source": [
    "### Spliting the label and features"
   ]
  },
  {
   "cell_type": "code",
   "execution_count": 201,
   "metadata": {},
   "outputs": [],
   "source": [
    "X = seed_data.drop(\"LABEL\", axis=1)\n",
    "y = seed_data[\"LABEL\"]"
   ]
  },
  {
   "cell_type": "markdown",
   "metadata": {},
   "source": [
    "### Train Test spliting"
   ]
  },
  {
   "cell_type": "code",
   "execution_count": 202,
   "metadata": {},
   "outputs": [],
   "source": [
    "X_train, X_test, y_train, y_test = train_test_split(\n",
    "    X, y, test_size=0.2, stratify=y, random_state=42\n",
    ")"
   ]
  },
  {
   "cell_type": "markdown",
   "metadata": {},
   "source": [
    "### Formatted test and train data "
   ]
  },
  {
   "cell_type": "code",
   "execution_count": 203,
   "metadata": {},
   "outputs": [
    {
     "name": "stdout",
     "output_type": "stream",
     "text": [
      "Formatted Training Data:\n",
      "     area  perimeter  compactness  length  width  asymmetry  groove_length\n",
      "9   12.26      13.60       0.8333   5.408  2.833      4.756          5.360\n",
      "15  11.02      13.00       0.8189   5.325  2.701      6.735          5.163\n",
      "76  20.16      17.03       0.8735   6.513  3.773      1.910          6.185\n",
      "22  12.19      13.36       0.8579   5.240  2.909      4.857          5.158\n",
      "49  14.99      14.56       0.8883   5.570  3.377      2.958          5.175\n",
      "Training Labels:\n",
      "9     0\n",
      "15    0\n",
      "76    2\n",
      "22    0\n",
      "49    1\n",
      "3     0\n",
      "Name: LABEL, dtype: int64\n",
      "Formatted Testing Data:\n",
      "     area  perimeter  compactness  length  width  asymmetry  groove_length\n",
      "71  17.12      15.55       0.8892   5.850  3.566      2.858          5.746\n",
      "10  11.55      13.10       0.8455   5.167  2.845      6.715          4.956\n",
      "44  12.36      13.19       0.8923   5.076  3.042      3.220          4.605\n",
      "39  13.89      14.02       0.8880   5.439  3.199      3.986          4.738\n",
      "74  15.38      14.90       0.8706   5.884  3.268      4.462          5.795\n",
      "Testing Labels:\n",
      "71    2\n",
      "10    0\n",
      "44    1\n",
      "39    1\n",
      "74    2\n",
      "57    1\n",
      "Name: LABEL, dtype: int64\n"
     ]
    }
   ],
   "source": [
    "print(\"Formatted Training Data:\")\n",
    "print(pd.DataFrame(X_train).head())\n",
    "\n",
    "print(\"Training Labels:\")\n",
    "print(y_train[:6])\n",
    "\n",
    "print(\"Formatted Testing Data:\")\n",
    "print(pd.DataFrame(X_test).head())\n",
    "\n",
    "print(\"Testing Labels:\")\n",
    "print(y_test[:6])\n"
   ]
  },
  {
   "cell_type": "markdown",
   "metadata": {},
   "source": [
    "### Polynomial SVM"
   ]
  },
  {
   "cell_type": "code",
   "execution_count": 204,
   "metadata": {},
   "outputs": [],
   "source": [
    "polynomial_svm = SVC(kernel='poly', degree=3, C=1.0, random_state=42)\n",
    "polynomial_svm.fit(X_train, y_train)\n",
    "y_pred_polynomial = polynomial_svm.predict(X_test)"
   ]
  },
  {
   "cell_type": "code",
   "execution_count": 205,
   "metadata": {},
   "outputs": [
    {
     "name": "stdout",
     "output_type": "stream",
     "text": [
      "Accuracy: 0.8888888888888888\n",
      "Classification Report:\n",
      "               precision    recall  f1-score   support\n",
      "\n",
      "           0       0.86      1.00      0.92         6\n",
      "           1       0.83      0.83      0.83         6\n",
      "           2       1.00      0.83      0.91         6\n",
      "\n",
      "    accuracy                           0.89        18\n",
      "   macro avg       0.90      0.89      0.89        18\n",
      "weighted avg       0.90      0.89      0.89        18\n",
      "\n"
     ]
    }
   ],
   "source": [
    "print(\"Accuracy:\", polynomial_svm.score(X_test, y_test))\n",
    "print(\"Classification Report:\\n\", classification_report(y_test, y_pred_polynomial))"
   ]
  },
  {
   "cell_type": "code",
   "execution_count": 206,
   "metadata": {},
   "outputs": [
    {
     "data": {
      "image/png": "[encoded data removed]",
      "text/plain": [
       "<Figure size 640x480 with 2 Axes>"
      ]
     },
     "metadata": {},
     "output_type": "display_data"
    }
   ],
   "source": [
    "ConfusionMatrixDisplay.from_predictions(y_test, y_pred_polynomial, cmap='viridis')\n",
    "plt.title(\"Polynomial Kernel (Degree=3)\")\n",
    "plt.show()"
   ]
  },
  {
   "cell_type": "markdown",
   "metadata": {},
   "source": [
    "### RBF SVM"
   ]
  },
  {
   "cell_type": "code",
   "execution_count": 207,
   "metadata": {},
   "outputs": [],
   "source": [
    "svm_rbf = SVC(kernel='rbf', C=1.0, gamma='scale', random_state=42)\n",
    "svm_rbf.fit(X_train, y_train)\n",
    "y_pred_rbf = svm_rbf.predict(X_test)"
   ]
  },
  {
   "cell_type": "code",
   "execution_count": 208,
   "metadata": {},
   "outputs": [
    {
     "name": "stdout",
     "output_type": "stream",
     "text": [
      "Accuracy: 0.8888888888888888\n",
      "Classification Report:\n",
      "               precision    recall  f1-score   support\n",
      "\n",
      "           0       0.86      1.00      0.92         6\n",
      "           1       0.83      0.83      0.83         6\n",
      "           2       1.00      0.83      0.91         6\n",
      "\n",
      "    accuracy                           0.89        18\n",
      "   macro avg       0.90      0.89      0.89        18\n",
      "weighted avg       0.90      0.89      0.89        18\n",
      "\n"
     ]
    }
   ],
   "source": [
    "print(\"Accuracy:\", svm_rbf.score(X_test, y_test))\n",
    "print(\"Classification Report:\\n\", classification_report(y_test, y_pred_rbf))"
   ]
  },
  {
   "cell_type": "code",
   "execution_count": 209,
   "metadata": {},
   "outputs": [
    {
     "data": {
      "image/png": "[encoded data removed]",
      "text/plain": [
       "<Figure size 640x480 with 2 Axes>"
      ]
     },
     "metadata": {},
     "output_type": "display_data"
    }
   ],
   "source": [
    "ConfusionMatrixDisplay.from_predictions(y_test, y_pred_rbf, cmap='cividis')\n",
    "plt.title(\"RBF Kernel\")\n",
    "plt.show()"
   ]
  },
  {
   "cell_type": "markdown",
   "metadata": {},
   "source": [
    "### Linear SVM"
   ]
  },
  {
   "cell_type": "code",
   "execution_count": 210,
   "metadata": {},
   "outputs": [],
   "source": [
    "svm_linear = SVC(kernel='linear', C=1.0, random_state=42)\n",
    "svm_linear.fit(X_train, y_train)\n",
    "y_pred_linear = svm_linear.predict(X_test)"
   ]
  },
  {
   "cell_type": "code",
   "execution_count": 211,
   "metadata": {},
   "outputs": [
    {
     "name": "stdout",
     "output_type": "stream",
     "text": [
      "Accuracy: 0.8888888888888888\n",
      "Classification Report:\n",
      "               precision    recall  f1-score   support\n",
      "\n",
      "           0       0.86      1.00      0.92         6\n",
      "           1       0.83      0.83      0.83         6\n",
      "           2       1.00      0.83      0.91         6\n",
      "\n",
      "    accuracy                           0.89        18\n",
      "   macro avg       0.90      0.89      0.89        18\n",
      "weighted avg       0.90      0.89      0.89        18\n",
      "\n"
     ]
    }
   ],
   "source": [
    "print(\"Accuracy:\", svm_linear.score(X_test, y_test))\n",
    "print(\"Classification Report:\\n\", classification_report(y_test, y_pred_linear))"
   ]
  },
  {
   "cell_type": "code",
   "execution_count": 212,
   "metadata": {},
   "outputs": [
    {
     "data": {
      "image/png": "[encoded data removed]",
      "text/plain": [
       "<Figure size 640x480 with 2 Axes>"
      ]
     },
     "metadata": {},
     "output_type": "display_data"
    }
   ],
   "source": [
    "ConfusionMatrixDisplay.from_predictions(y_test, y_pred_linear, cmap='Oranges')\n",
    "plt.title(\"SVM - Linear Kernel\")\n",
    "plt.show()"
   ]
  },
  {
   "cell_type": "markdown",
   "metadata": {},
   "source": [
    "All three Support Vector Machine (SVM) models — Polynomial (degree 3), RBF, and Linear — achieved the same accuracy of 88.89% on the test set. Each model correctly classified 16 out of 18 samples, misclassifying one sample from class 1 and one from class 2. The confusion matrices were identical, showing the same distribution of correct and incorrect predictions across classes.\n",
    "This consistent performance across different kernels suggests that the dataset is well-structured and nearly linearly separable, allowing even the simpler linear kernel to perform as well as the more complex polynomial and RBF kernels. The classification reports also confirm this, with nearly perfect precision and recall for class 0, and balanced scores for the other two classes.\n",
    "In conclusion, no single SVM model outperformed the others in this case. All three kernels were effective and produced identical results on the test data. This highlights that for clean and balanced datasets like the seeds dataset, simpler kernels like linear SVM may be just as effective as more complex ones.\n"
   ]
  }
 ],
 "metadata": {
  "kernelspec": {
   "display_name": "mlpro",
   "language": "python",
   "name": "python3"
  },
  "language_info": {
   "codemirror_mode": {
    "name": "ipython",
    "version": 3
   },
   "file_extension": ".py",
   "mimetype": "text/x-python",
   "name": "python",
   "nbconvert_exporter": "python",
   "pygments_lexer": "ipython3",
   "version": "3.9.21"
  }
 },
 "nbformat": 4,
 "nbformat_minor": 2
}
