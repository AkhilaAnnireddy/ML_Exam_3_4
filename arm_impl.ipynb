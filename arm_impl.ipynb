{
 "cells": [
  {
   "cell_type": "code",
   "execution_count": 79,
   "metadata": {
    "vscode": {
     "languageId": "r"
    }
   },
   "outputs": [],
   "source": [
    "library(arules)"
   ]
  },
  {
   "cell_type": "code",
   "execution_count": 80,
   "metadata": {
    "vscode": {
     "languageId": "r"
    }
   },
   "outputs": [],
   "source": [
    "t_data <- read.csv(\"transcational_data.csv\", stringsAsFactors = FALSE)"
   ]
  },
  {
   "cell_type": "code",
   "execution_count": 81,
   "metadata": {
    "vscode": {
     "languageId": "r"
    }
   },
   "outputs": [],
   "source": [
    "data_list <- split(t_data, seq(nrow(t_data)))\n",
    "basket_list <- lapply(data_list, function(row) unique(na.omit(as.character(unlist(row)))))\n",
    "trans <- as(basket_list, \"transactions\")"
   ]
  },
  {
   "cell_type": "code",
   "execution_count": 82,
   "metadata": {
    "vscode": {
     "languageId": "r"
    }
   },
   "outputs": [
    {
     "name": "stdout",
     "output_type": "stream",
     "text": [
      "Apriori\n",
      "\n",
      "Parameter specification:\n",
      " confidence minval smax arem  aval originalSupport maxtime support minlen\n",
      "       0.01    0.1    1 none FALSE            TRUE       5    0.01      2\n",
      " maxlen target  ext\n",
      "     10  rules TRUE\n",
      "\n",
      "Algorithmic control:\n",
      " filter tree heap memopt load sort verbose\n",
      "    0.1 TRUE TRUE  FALSE TRUE    2    TRUE\n",
      "\n",
      "Absolute minimum support count: 9 \n",
      "\n",
      "set item appearances ...[0 item(s)] done [0.00s].\n",
      "set transactions ...[219 item(s), 999 transaction(s)] done [0.00s].\n",
      "sorting and recoding items ... [44 item(s)] done [0.00s].\n",
      "creating transaction tree ... done [0.00s].\n",
      "checking subsets of size 1 2 3 4 done [0.00s].\n",
      "writing ... [398 rule(s)] done [0.00s].\n",
      "creating S4 object  ... done [0.00s].\n"
     ]
    }
   ],
   "source": [
    "rules <- apriori(trans, parameter = list(supp = 0.01, conf = 0.01, minlen = 2))"
   ]
  },
  {
   "cell_type": "code",
   "execution_count": 83,
   "metadata": {
    "vscode": {
     "languageId": "r"
    }
   },
   "outputs": [
    {
     "name": "stdout",
     "output_type": "stream",
     "text": [
      "     lhs                                                               rhs                                                              support confidence  coverage      lift count\n",
      "[1]  {Eligibility unknown as battery range has not been researched} => {Battery Electric Vehicle (BEV)}                               0.4634635  1.0000000 0.4634635 1.2677665   463\n",
      "[2]  {Battery Electric Vehicle (BEV)}                               => {Eligibility unknown as battery range has not been researched} 0.4634635  0.5875635 0.7887888 1.2677665   463\n",
      "[3]  {Clean Alternative Fuel Vehicle Eligible}                      => {Battery Electric Vehicle (BEV)}                               0.3253253  0.7629108 0.4264264 0.9671928   325\n",
      "[4]  {Battery Electric Vehicle (BEV)}                               => {Clean Alternative Fuel Vehicle Eligible}                      0.3253253  0.4124365 0.7887888 0.9671928   325\n",
      "[5]  {TESLA-MODEL Y}                                                => {Battery Electric Vehicle (BEV)}                               0.1831832  1.0000000 0.1831832 1.2677665   183\n",
      "[6]  {Battery Electric Vehicle (BEV)}                               => {TESLA-MODEL Y}                                                0.1831832  0.2322335 0.7887888 1.2677665   183\n",
      "[7]  {TESLA-MODEL 3}                                                => {Battery Electric Vehicle (BEV)}                               0.1741742  1.0000000 0.1741742 1.2677665   174\n",
      "[8]  {Battery Electric Vehicle (BEV)}                               => {TESLA-MODEL 3}                                                0.1741742  0.2208122 0.7887888 1.2677665   174\n",
      "[9]  {TESLA-MODEL Y}                                                => {Eligibility unknown as battery range has not been researched} 0.1681682  0.9180328 0.1831832 1.9808094   168\n",
      "[10] {Eligibility unknown as battery range has not been researched} => {TESLA-MODEL Y}                                                0.1681682  0.3628510 0.4634635 1.9808094   168\n"
     ]
    }
   ],
   "source": [
    "rules_support <- sort(rules, by = \"support\", decreasing = TRUE)\n",
    "inspect(head(rules_support, 10))"
   ]
  },
  {
   "cell_type": "code",
   "execution_count": 84,
   "metadata": {
    "vscode": {
     "languageId": "r"
    }
   },
   "outputs": [
    {
     "name": "stdout",
     "output_type": "stream",
     "text": [
      "     lhs                      rhs                                                               support confidence   coverage     lift count\n",
      "[1]  {BMW-I3}              => {Clean Alternative Fuel Vehicle Eligible}                      0.01001001          1 0.01001001 2.345070    10\n",
      "[2]  {FORD-MUSTANG MACH-E} => {Eligibility unknown as battery range has not been researched} 0.01201201          1 0.01201201 2.157667    12\n",
      "[3]  {FORD-MUSTANG MACH-E} => {Battery Electric Vehicle (BEV)}                               0.01201201          1 0.01201201 1.267766    12\n",
      "[4]  {VOLVO-XC90}          => {Plug-in Hybrid Electric Vehicle (PHEV)}                       0.01201201          1 0.01201201 4.734597    12\n",
      "[5]  {TOYOTA-PRIUS PRIME}  => {Plug-in Hybrid Electric Vehicle (PHEV)}                       0.01301301          1 0.01301301 4.734597    13\n",
      "[6]  {HYUNDAI-IONIQ 5}     => {Eligibility unknown as battery range has not been researched} 0.01501502          1 0.01501502 2.157667    15\n",
      "[7]  {HYUNDAI-IONIQ 5}     => {Battery Electric Vehicle (BEV)}                               0.01501502          1 0.01501502 1.267766    15\n",
      "[8]  {TOYOTA-RAV4 PRIME}   => {Plug-in Hybrid Electric Vehicle (PHEV)}                       0.01601602          1 0.01601602 4.734597    16\n",
      "[9]  {TOYOTA-RAV4 PRIME}   => {Clean Alternative Fuel Vehicle Eligible}                      0.01601602          1 0.01601602 2.345070    16\n",
      "[10] {KIA-EV6}             => {Eligibility unknown as battery range has not been researched} 0.01701702          1 0.01701702 2.157667    17\n"
     ]
    }
   ],
   "source": [
    "rules_conf <- sort(rules, by = \"confidence\", decreasing = TRUE)\n",
    "inspect(head(rules_conf, 10))"
   ]
  },
  {
   "cell_type": "code",
   "execution_count": 85,
   "metadata": {
    "vscode": {
     "languageId": "r"
    }
   },
   "outputs": [
    {
     "name": "stdout",
     "output_type": "stream",
     "text": [
      "     lhs                                           rhs                                         support confidence   coverage     lift count\n",
      "[1]  {Clean Alternative Fuel Vehicle Eligible,                                                                                             \n",
      "      Plug-in Hybrid Electric Vehicle (PHEV)}   => {TOYOTA-RAV4 PRIME}                      0.01601602  0.1584158 0.10110110 9.891089    16\n",
      "[2]  {Clean Alternative Fuel Vehicle Eligible,                                                                                             \n",
      "      Plug-in Hybrid Electric Vehicle (PHEV)}   => {CHEVROLET-VOLT}                         0.02302302  0.2277228 0.10110110 9.891089    23\n",
      "[3]  {JEEP-WRANGLER}                            => {Not eligible due to low battery range}  0.02402402  1.0000000 0.02402402 9.081818    24\n",
      "[4]  {JEEP-WRANGLER,                                                                                                                       \n",
      "      Plug-in Hybrid Electric Vehicle (PHEV)}   => {Not eligible due to low battery range}  0.02402402  1.0000000 0.02402402 9.081818    24\n",
      "[5]  {Not eligible due to low battery range}    => {JEEP-WRANGLER}                          0.02402402  0.2181818 0.11011011 9.081818    24\n",
      "[6]  {Not eligible due to low battery range,                                                                                               \n",
      "      Plug-in Hybrid Electric Vehicle (PHEV)}   => {JEEP-WRANGLER}                          0.02402402  0.2181818 0.11011011 9.081818    24\n",
      "[7]  {Clean Alternative Fuel Vehicle Eligible,                                                                                             \n",
      "      Plug-in Hybrid Electric Vehicle (PHEV)}   => {BMW-X5}                                 0.01601602  0.1584158 0.10110110 7.912871    16\n",
      "[8]  {Plug-in Hybrid Electric Vehicle (PHEV),                                                                                              \n",
      "      Seattle}                                  => {Not eligible due to low battery range}  0.01601602  0.5517241 0.02902903 5.010658    16\n",
      "[9]  {Plug-in Hybrid Electric Vehicle (PHEV)}   => {Not eligible due to low battery range}  0.11011011  0.5213270 0.21121121 4.734597   110\n",
      "[10] {VOLVO-XC90}                               => {Plug-in Hybrid Electric Vehicle (PHEV)} 0.01201201  1.0000000 0.01201201 4.734597    12\n"
     ]
    }
   ],
   "source": [
    "rules_lift <- sort(rules, by = \"lift\", decreasing = TRUE)\n",
    "inspect(head(rules_lift, 10))"
   ]
  },
  {
   "cell_type": "code",
   "execution_count": 86,
   "metadata": {
    "vscode": {
     "languageId": "r"
    }
   },
   "outputs": [
    {
     "name": "stdout",
     "output_type": "stream",
     "text": [
      "    lhs                                           rhs                                          support confidence   coverage     lift count\n",
      "[1] {Battery Electric Vehicle (BEV),                                                                                                       \n",
      "     Clean Alternative Fuel Vehicle Eligible,                                                                                              \n",
      "     Seattle}                                  => {NISSAN-LEAF}                             0.01301301  0.2765957 0.04704705 2.971174    13\n",
      "[2] {Battery Electric Vehicle (BEV),                                                                                                       \n",
      "     Clean Alternative Fuel Vehicle Eligible}  => {NISSAN-LEAF}                             0.07307307  0.2246154 0.32532533 2.412804    73\n",
      "[3] {Clean Alternative Fuel Vehicle Eligible,                                                                                              \n",
      "     Seattle}                                  => {NISSAN-LEAF}                             0.01301301  0.2166667 0.06006006 2.327419    13\n",
      "[4] {Clean Alternative Fuel Vehicle Eligible}  => {NISSAN-LEAF}                             0.07307307  0.1713615 0.42642643 1.840754    73\n",
      "[5] {NISSAN-LEAF}                              => {Clean Alternative Fuel Vehicle Eligible} 0.07307307  0.7849462 0.09309309 1.840754    73\n"
     ]
    }
   ],
   "source": [
    "nissan_rules <- subset(rules, lhs %in% \"NISSAN-LEAF\" | rhs %in% \"NISSAN-LEAF\")\n",
    "nissan_sorted <- sort(nissan_rules, by = \"lift\", decreasing = TRUE)\n",
    "inspect(head(nissan_sorted, 5))"
   ]
  },
  {
   "cell_type": "code",
   "execution_count": 87,
   "metadata": {
    "vscode": {
     "languageId": "r"
    }
   },
   "outputs": [
    {
     "name": "stdout",
     "output_type": "stream",
     "text": [
      "    lhs                                           rhs              support confidence   coverage     lift count\n",
      "[1] {Clean Alternative Fuel Vehicle Eligible}  => {NISSAN-LEAF} 0.07307307  0.1713615 0.42642643 1.840754    73\n",
      "[2] {Clean Alternative Fuel Vehicle Eligible,                                                                  \n",
      "     Seattle}                                  => {NISSAN-LEAF} 0.01301301  0.2166667 0.06006006 2.327419    13\n",
      "[3] {Battery Electric Vehicle (BEV),                                                                           \n",
      "     Clean Alternative Fuel Vehicle Eligible}  => {NISSAN-LEAF} 0.07307307  0.2246154 0.32532533 2.412804    73\n",
      "[4] {Battery Electric Vehicle (BEV),                                                                           \n",
      "     Clean Alternative Fuel Vehicle Eligible,                                                                  \n",
      "     Seattle}                                  => {NISSAN-LEAF} 0.01301301  0.2765957 0.04704705 2.971174    13\n"
     ]
    }
   ],
   "source": [
    "rule_specific <- subset(rules, lhs %in% \"Clean Alternative Fuel Vehicle Eligible\" & rhs %in% \"NISSAN-LEAF\")\n",
    "inspect(rule_specific) "
   ]
  },
  {
   "cell_type": "code",
   "execution_count": 88,
   "metadata": {
    "vscode": {
     "languageId": "r"
    }
   },
   "outputs": [
    {
     "name": "stdout",
     "output_type": "stream",
     "text": [
      "    lhs                                                                rhs                support confidence   coverage     lift count\n",
      "[1] {Bothell,                                                                                                                         \n",
      "     Eligibility unknown as battery range has not been researched}  => {TESLA-MODEL Y} 0.01001001  0.5263158 0.01901902 2.873167    10\n",
      "[2] {Battery Electric Vehicle (BEV),                                                                                                  \n",
      "     Bothell,                                                                                                                         \n",
      "     Eligibility unknown as battery range has not been researched}  => {TESLA-MODEL Y} 0.01001001  0.5263158 0.01901902 2.873167    10\n",
      "[3] {Bellevue,                                                                                                                        \n",
      "     Eligibility unknown as battery range has not been researched}  => {TESLA-MODEL Y} 0.03603604  0.5070423 0.07107107 2.767952    36\n",
      "[4] {Battery Electric Vehicle (BEV),                                                                                                  \n",
      "     Bellevue,                                                                                                                        \n",
      "     Eligibility unknown as battery range has not been researched}  => {TESLA-MODEL Y} 0.03603604  0.5070423 0.07107107 2.767952    36\n",
      "[5] {Eligibility unknown as battery range has not been researched,                                                                    \n",
      "     Kent}                                                          => {TESLA-MODEL Y} 0.01101101  0.5000000 0.02202202 2.729508    11\n"
     ]
    }
   ],
   "source": [
    "eligibility_item <- \"Eligibility unknown as battery range has not been researched\"\n",
    "eligibility_rules <- subset(rules, lhs %in% eligibility_item | rhs %in% eligibility_item)\n",
    "eligibility_sorted <- sort(eligibility_rules, by = \"lift\", decreasing = TRUE)\n",
    "inspect(head(eligibility_sorted, 5)) "
   ]
  },
  {
   "cell_type": "code",
   "execution_count": 89,
   "metadata": {
    "vscode": {
     "languageId": "r"
    }
   },
   "outputs": [
    {
     "name": "stdout",
     "output_type": "stream",
     "text": [
      "     lhs                                                                rhs                                 support confidence   coverage     lift count\n",
      "[1]  {Eligibility unknown as battery range has not been researched}  => {Battery Electric Vehicle (BEV)} 0.46346346          1 0.46346346 1.267766   463\n",
      "[2]  {Eligibility unknown as battery range has not been researched,                                                                                     \n",
      "      FORD-MUSTANG MACH-E}                                           => {Battery Electric Vehicle (BEV)} 0.01201201          1 0.01201201 1.267766    12\n",
      "[3]  {Eligibility unknown as battery range has not been researched,                                                                                     \n",
      "      HYUNDAI-IONIQ 5}                                               => {Battery Electric Vehicle (BEV)} 0.01501502          1 0.01501502 1.267766    15\n",
      "[4]  {Auburn,                                                                                                                                           \n",
      "      Eligibility unknown as battery range has not been researched}  => {Battery Electric Vehicle (BEV)} 0.01101101          1 0.01101101 1.267766    11\n",
      "[5]  {Eligibility unknown as battery range has not been researched,                                                                                     \n",
      "      KIA-EV6}                                                       => {Battery Electric Vehicle (BEV)} 0.01701702          1 0.01701702 1.267766    17\n",
      "[6]  {Eligibility unknown as battery range has not been researched,                                                                                     \n",
      "      VOLKSWAGEN-ID.4}                                               => {Battery Electric Vehicle (BEV)} 0.01801802          1 0.01801802 1.267766    18\n",
      "[7]  {Eligibility unknown as battery range has not been researched,                                                                                     \n",
      "      Sammamish}                                                     => {Battery Electric Vehicle (BEV)} 0.01501502          1 0.01501502 1.267766    15\n",
      "[8]  {Eligibility unknown as battery range has not been researched,                                                                                     \n",
      "      Renton}                                                        => {Battery Electric Vehicle (BEV)} 0.01601602          1 0.01601602 1.267766    16\n",
      "[9]  {Eligibility unknown as battery range has not been researched,                                                                                     \n",
      "      Kent}                                                          => {Battery Electric Vehicle (BEV)} 0.02202202          1 0.02202202 1.267766    22\n",
      "[10] {Eligibility unknown as battery range has not been researched,                                                                                     \n",
      "      TESLA-MODEL X}                                                 => {Battery Electric Vehicle (BEV)} 0.01201201          1 0.01201201 1.267766    12\n",
      "[11] {Eligibility unknown as battery range has not been researched,                                                                                     \n",
      "      Olympia}                                                       => {Battery Electric Vehicle (BEV)} 0.01101101          1 0.01101101 1.267766    11\n",
      "[12] {Bothell,                                                                                                                                          \n",
      "      Eligibility unknown as battery range has not been researched}  => {Battery Electric Vehicle (BEV)} 0.01901902          1 0.01901902 1.267766    19\n",
      "[13] {Eligibility unknown as battery range has not been researched,                                                                                     \n",
      "      Redmond}                                                       => {Battery Electric Vehicle (BEV)} 0.02402402          1 0.02402402 1.267766    24\n",
      "[14] {Eligibility unknown as battery range has not been researched,                                                                                     \n",
      "      TESLA-MODEL S}                                                 => {Battery Electric Vehicle (BEV)} 0.01001001          1 0.01001001 1.267766    10\n",
      "[15] {Eligibility unknown as battery range has not been researched,                                                                                     \n",
      "      Vancouver}                                                     => {Battery Electric Vehicle (BEV)} 0.03103103          1 0.03103103 1.267766    31\n",
      "[16] {Eligibility unknown as battery range has not been researched,                                                                                     \n",
      "      Kirkland}                                                      => {Battery Electric Vehicle (BEV)} 0.05005005          1 0.05005005 1.267766    50\n",
      "[17] {Eligibility unknown as battery range has not been researched,                                                                                     \n",
      "      NISSAN-LEAF}                                                   => {Battery Electric Vehicle (BEV)} 0.02002002          1 0.02002002 1.267766    20\n",
      "[18] {Bellevue,                                                                                                                                         \n",
      "      Eligibility unknown as battery range has not been researched}  => {Battery Electric Vehicle (BEV)} 0.07107107          1 0.07107107 1.267766    71\n",
      "[19] {Eligibility unknown as battery range has not been researched,                                                                                     \n",
      "      Seattle}                                                       => {Battery Electric Vehicle (BEV)} 0.08108108          1 0.08108108 1.267766    81\n",
      "[20] {Eligibility unknown as battery range has not been researched,                                                                                     \n",
      "      TESLA-MODEL 3}                                                 => {Battery Electric Vehicle (BEV)} 0.06606607          1 0.06606607 1.267766    66\n",
      "[21] {Eligibility unknown as battery range has not been researched,                                                                                     \n",
      "      TESLA-MODEL Y}                                                 => {Battery Electric Vehicle (BEV)} 0.16816817          1 0.16816817 1.267766   168\n",
      "[22] {Eligibility unknown as battery range has not been researched,                                                                                     \n",
      "      Kent,                                                                                                                                             \n",
      "      TESLA-MODEL Y}                                                 => {Battery Electric Vehicle (BEV)} 0.01101101          1 0.01101101 1.267766    11\n",
      "[23] {Bothell,                                                                                                                                          \n",
      "      Eligibility unknown as battery range has not been researched,                                                                                     \n",
      "      TESLA-MODEL Y}                                                 => {Battery Electric Vehicle (BEV)} 0.01001001          1 0.01001001 1.267766    10\n",
      "[24] {Eligibility unknown as battery range has not been researched,                                                                                     \n",
      "      Redmond,                                                                                                                                          \n",
      "      TESLA-MODEL Y}                                                 => {Battery Electric Vehicle (BEV)} 0.01001001          1 0.01001001 1.267766    10\n",
      "[25] {Eligibility unknown as battery range has not been researched,                                                                                     \n",
      "      Kirkland,                                                                                                                                         \n",
      "      TESLA-MODEL Y}                                                 => {Battery Electric Vehicle (BEV)} 0.01601602          1 0.01601602 1.267766    16\n",
      "[26] {Bellevue,                                                                                                                                         \n",
      "      Eligibility unknown as battery range has not been researched,                                                                                     \n",
      "      TESLA-MODEL Y}                                                 => {Battery Electric Vehicle (BEV)} 0.03603604          1 0.03603604 1.267766    36\n",
      "[27] {Eligibility unknown as battery range has not been researched,                                                                                     \n",
      "      Seattle,                                                                                                                                          \n",
      "      TESLA-MODEL 3}                                                 => {Battery Electric Vehicle (BEV)} 0.01001001          1 0.01001001 1.267766    10\n",
      "[28] {Eligibility unknown as battery range has not been researched,                                                                                     \n",
      "      Seattle,                                                                                                                                          \n",
      "      TESLA-MODEL Y}                                                 => {Battery Electric Vehicle (BEV)} 0.02402402          1 0.02402402 1.267766    24\n"
     ]
    }
   ],
   "source": [
    "correlation_rule <- subset(rules, lhs %in% eligibility_item & rhs %in% \"Battery Electric Vehicle (BEV)\")\n",
    "inspect(correlation_rule)"
   ]
  }
 ],
 "metadata": {
  "kernelspec": {
   "display_name": "R",
   "language": "R",
   "name": "ir"
  },
  "language_info": {
   "codemirror_mode": "r",
   "file_extension": ".r",
   "mimetype": "text/x-r-source",
   "name": "R",
   "pygments_lexer": "r",
   "version": "4.2.3"
  }
 },
 "nbformat": 4,
 "nbformat_minor": 2
}
