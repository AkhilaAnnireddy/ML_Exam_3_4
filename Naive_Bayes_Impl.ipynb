{
    "cells": [
        {
            "cell_type": "markdown",
            "metadata": {},
            "source": [
                "# Gaussian NB Implementation"
            ]
        },
        {
            "cell_type": "code",
            "execution_count": 247,
            "metadata": {},
            "outputs": [],
            "source": [
                "import pandas as pd\n",
                "import numpy as np\n",
                "import matplotlib.pyplot as plt\n",
                "from sklearn.model_selection import train_test_split\n",
                "from sklearn.naive_bayes import GaussianNB, CategoricalNB, MultinomialNB\n",
                "from sklearn.metrics import classification_report, confusion_matrix, accuracy_score, ConfusionMatrixDisplay\n",
                "from sklearn.preprocessing import KBinsDiscretizer, MinMaxScaler, LabelEncoder"
            ]
        },
        {
            "cell_type": "markdown",
            "metadata": {},
            "source": [
                "### Dataset Description\n",
                "\n",
                "### Feature Description\n",
                "Area (A) – Total surface area of the kernel’s projection.\n",
                "Perimeter (P) – Length of the kernel’s outer boundary.\n",
                "Compactness (C) – Shape compactness; higher values indicate rounder shapes.\n",
                "Length – Longest dimension of the kernel.\n",
                "Width – Width measured perpendicular to the length.\n",
                "Asymmetry – Degree of shape irregularity or imbalance.\n",
                "Groove Length – Length of the central groove along the kernel.\n",
                "\n",
                "##### Class label\n",
                "\n",
                "1 → Kama – Wheat variety with moderately compact and symmetric kernels.\n",
                "2 → Rosa – Wheat variety with wider and less compact kernels.\n",
                "3 → Canadian – Wheat variety with longer grooves and higher asymmetry.\n",
                "\n",
                "\n",
                "Reference link to dataset : https://archive.ics.uci.edu/dataset/236/seeds"
            ]
        },
        {
            "cell_type": "code",
            "execution_count": 248,
            "metadata": {},
            "outputs": [],
            "source": [
                "# loading the dataset\n",
                "seed_data = pd.read_csv(\"seeds_dataset.csv\")"
            ]
        },
        {
            "cell_type": "code",
            "execution_count": 249,
            "metadata": {},
            "outputs": [
                {
                    "data": {
                        "text/html": [
                            "<div>\n",
                            "<style scoped>\n",
                            "    .dataframe tbody tr th:only-of-type {\n",
                            "        vertical-align: middle;\n",
                            "    }\n",
                            "\n",
                            "    .dataframe tbody tr th {\n",
                            "        vertical-align: top;\n",
                            "    }\n",
                            "\n",
                            "    .dataframe thead th {\n",
                            "        text-align: right;\n",
                            "    }\n",
                            "</style>\n",
                            "<table border=\"1\" class=\"dataframe\">\n",
                            "  <thead>\n",
                            "    <tr style=\"text-align: right;\">\n",
                            "      <th></th>\n",
                            "      <th>area</th>\n",
                            "      <th>perimeter</th>\n",
                            "      <th>compactness</th>\n",
                            "      <th>length</th>\n",
                            "      <th>width</th>\n",
                            "      <th>asymmetry</th>\n",
                            "      <th>groove_length</th>\n",
                            "      <th>LABEL</th>\n",
                            "    </tr>\n",
                            "  </thead>\n",
                            "  <tbody>\n",
                            "    <tr>\n",
                            "      <th>0</th>\n",
                            "      <td>12.05</td>\n",
                            "      <td>13.41</td>\n",
                            "      <td>0.8416</td>\n",
                            "      <td>5.267</td>\n",
                            "      <td>2.847</td>\n",
                            "      <td>4.988</td>\n",
                            "      <td>5.046</td>\n",
                            "      <td>Canadian</td>\n",
                            "    </tr>\n",
                            "    <tr>\n",
                            "      <th>1</th>\n",
                            "      <td>13.07</td>\n",
                            "      <td>13.92</td>\n",
                            "      <td>0.8480</td>\n",
                            "      <td>5.472</td>\n",
                            "      <td>2.994</td>\n",
                            "      <td>5.304</td>\n",
                            "      <td>5.395</td>\n",
                            "      <td>Canadian</td>\n",
                            "    </tr>\n",
                            "    <tr>\n",
                            "      <th>2</th>\n",
                            "      <td>10.59</td>\n",
                            "      <td>12.41</td>\n",
                            "      <td>0.8648</td>\n",
                            "      <td>4.899</td>\n",
                            "      <td>2.787</td>\n",
                            "      <td>4.975</td>\n",
                            "      <td>4.794</td>\n",
                            "      <td>Canadian</td>\n",
                            "    </tr>\n",
                            "    <tr>\n",
                            "      <th>3</th>\n",
                            "      <td>11.82</td>\n",
                            "      <td>13.40</td>\n",
                            "      <td>0.8274</td>\n",
                            "      <td>5.314</td>\n",
                            "      <td>2.777</td>\n",
                            "      <td>4.471</td>\n",
                            "      <td>5.178</td>\n",
                            "      <td>Canadian</td>\n",
                            "    </tr>\n",
                            "    <tr>\n",
                            "      <th>4</th>\n",
                            "      <td>12.11</td>\n",
                            "      <td>13.27</td>\n",
                            "      <td>0.8639</td>\n",
                            "      <td>5.236</td>\n",
                            "      <td>2.975</td>\n",
                            "      <td>4.132</td>\n",
                            "      <td>5.012</td>\n",
                            "      <td>Canadian</td>\n",
                            "    </tr>\n",
                            "  </tbody>\n",
                            "</table>\n",
                            "</div>"
                        ],
                        "text/plain": [
                            "    area  perimeter  compactness  length  width  asymmetry  groove_length  \\\n",
                            "0  12.05      13.41       0.8416   5.267  2.847      4.988          5.046   \n",
                            "1  13.07      13.92       0.8480   5.472  2.994      5.304          5.395   \n",
                            "2  10.59      12.41       0.8648   4.899  2.787      4.975          4.794   \n",
                            "3  11.82      13.40       0.8274   5.314  2.777      4.471          5.178   \n",
                            "4  12.11      13.27       0.8639   5.236  2.975      4.132          5.012   \n",
                            "\n",
                            "      LABEL  \n",
                            "0  Canadian  \n",
                            "1  Canadian  \n",
                            "2  Canadian  \n",
                            "3  Canadian  \n",
                            "4  Canadian  "
                        ]
                    },
                    "execution_count": 249,
                    "metadata": {},
                    "output_type": "execute_result"
                }
            ],
            "source": [
                "# dataset summary\n",
                "seed_data.head()"
            ]
        },
        {
            "cell_type": "code",
            "execution_count": 250,
            "metadata": {},
            "outputs": [
                {
                    "data": {
                        "text/plain": [
                            "(90, 8)"
                        ]
                    },
                    "execution_count": 250,
                    "metadata": {},
                    "output_type": "execute_result"
                }
            ],
            "source": [
                "seed_data.shape"
            ]
        },
        {
            "cell_type": "code",
            "execution_count": 251,
            "metadata": {},
            "outputs": [
                {
                    "data": {
                        "text/plain": [
                            "area             float64\n",
                            "perimeter        float64\n",
                            "compactness      float64\n",
                            "length           float64\n",
                            "width            float64\n",
                            "asymmetry        float64\n",
                            "groove_length    float64\n",
                            "LABEL             object\n",
                            "dtype: object"
                        ]
                    },
                    "execution_count": 251,
                    "metadata": {},
                    "output_type": "execute_result"
                }
            ],
            "source": [
                "seed_data.dtypes"
            ]
        },
        {
            "cell_type": "code",
            "execution_count": 252,
            "metadata": {},
            "outputs": [
                {
                    "data": {
                        "text/plain": [
                            "area             0\n",
                            "perimeter        0\n",
                            "compactness      0\n",
                            "length           0\n",
                            "width            0\n",
                            "asymmetry        0\n",
                            "groove_length    0\n",
                            "LABEL            0\n",
                            "dtype: int64"
                        ]
                    },
                    "execution_count": 252,
                    "metadata": {},
                    "output_type": "execute_result"
                }
            ],
            "source": [
                "seed_data.isnull().sum()"
            ]
        },
        {
            "cell_type": "code",
            "execution_count": 253,
            "metadata": {},
            "outputs": [
                {
                    "data": {
                        "text/html": [
                            "<div>\n",
                            "<style scoped>\n",
                            "    .dataframe tbody tr th:only-of-type {\n",
                            "        vertical-align: middle;\n",
                            "    }\n",
                            "\n",
                            "    .dataframe tbody tr th {\n",
                            "        vertical-align: top;\n",
                            "    }\n",
                            "\n",
                            "    .dataframe thead th {\n",
                            "        text-align: right;\n",
                            "    }\n",
                            "</style>\n",
                            "<table border=\"1\" class=\"dataframe\">\n",
                            "  <thead>\n",
                            "    <tr style=\"text-align: right;\">\n",
                            "      <th></th>\n",
                            "      <th>area</th>\n",
                            "      <th>perimeter</th>\n",
                            "      <th>compactness</th>\n",
                            "      <th>length</th>\n",
                            "      <th>width</th>\n",
                            "      <th>asymmetry</th>\n",
                            "      <th>groove_length</th>\n",
                            "    </tr>\n",
                            "  </thead>\n",
                            "  <tbody>\n",
                            "    <tr>\n",
                            "      <th>count</th>\n",
                            "      <td>90.000000</td>\n",
                            "      <td>90.000000</td>\n",
                            "      <td>90.000000</td>\n",
                            "      <td>90.000000</td>\n",
                            "      <td>90.000000</td>\n",
                            "      <td>90.000000</td>\n",
                            "      <td>90.000000</td>\n",
                            "    </tr>\n",
                            "    <tr>\n",
                            "      <th>mean</th>\n",
                            "      <td>14.922333</td>\n",
                            "      <td>14.585556</td>\n",
                            "      <td>0.871433</td>\n",
                            "      <td>5.636878</td>\n",
                            "      <td>3.268422</td>\n",
                            "      <td>3.659169</td>\n",
                            "      <td>5.409122</td>\n",
                            "    </tr>\n",
                            "    <tr>\n",
                            "      <th>std</th>\n",
                            "      <td>3.022909</td>\n",
                            "      <td>1.332049</td>\n",
                            "      <td>0.026874</td>\n",
                            "      <td>0.437506</td>\n",
                            "      <td>0.399180</td>\n",
                            "      <td>1.506971</td>\n",
                            "      <td>0.475133</td>\n",
                            "    </tr>\n",
                            "    <tr>\n",
                            "      <th>min</th>\n",
                            "      <td>10.590000</td>\n",
                            "      <td>12.410000</td>\n",
                            "      <td>0.808200</td>\n",
                            "      <td>4.899000</td>\n",
                            "      <td>2.630000</td>\n",
                            "      <td>0.765100</td>\n",
                            "      <td>4.605000</td>\n",
                            "    </tr>\n",
                            "    <tr>\n",
                            "      <th>25%</th>\n",
                            "      <td>12.207500</td>\n",
                            "      <td>13.452500</td>\n",
                            "      <td>0.856475</td>\n",
                            "      <td>5.285250</td>\n",
                            "      <td>2.909500</td>\n",
                            "      <td>2.317750</td>\n",
                            "      <td>5.069250</td>\n",
                            "    </tr>\n",
                            "    <tr>\n",
                            "      <th>50%</th>\n",
                            "      <td>14.610000</td>\n",
                            "      <td>14.360000</td>\n",
                            "      <td>0.877100</td>\n",
                            "      <td>5.555500</td>\n",
                            "      <td>3.263000</td>\n",
                            "      <td>3.390000</td>\n",
                            "      <td>5.226000</td>\n",
                            "    </tr>\n",
                            "    <tr>\n",
                            "      <th>75%</th>\n",
                            "      <td>17.045000</td>\n",
                            "      <td>15.602500</td>\n",
                            "      <td>0.890300</td>\n",
                            "      <td>5.925250</td>\n",
                            "      <td>3.561750</td>\n",
                            "      <td>4.833000</td>\n",
                            "      <td>5.826500</td>\n",
                            "    </tr>\n",
                            "    <tr>\n",
                            "      <th>max</th>\n",
                            "      <td>21.180000</td>\n",
                            "      <td>17.250000</td>\n",
                            "      <td>0.918300</td>\n",
                            "      <td>6.579000</td>\n",
                            "      <td>4.033000</td>\n",
                            "      <td>8.315000</td>\n",
                            "      <td>6.451000</td>\n",
                            "    </tr>\n",
                            "  </tbody>\n",
                            "</table>\n",
                            "</div>"
                        ],
                        "text/plain": [
                            "            area  perimeter  compactness     length      width  asymmetry  \\\n",
                            "count  90.000000  90.000000    90.000000  90.000000  90.000000  90.000000   \n",
                            "mean   14.922333  14.585556     0.871433   5.636878   3.268422   3.659169   \n",
                            "std     3.022909   1.332049     0.026874   0.437506   0.399180   1.506971   \n",
                            "min    10.590000  12.410000     0.808200   4.899000   2.630000   0.765100   \n",
                            "25%    12.207500  13.452500     0.856475   5.285250   2.909500   2.317750   \n",
                            "50%    14.610000  14.360000     0.877100   5.555500   3.263000   3.390000   \n",
                            "75%    17.045000  15.602500     0.890300   5.925250   3.561750   4.833000   \n",
                            "max    21.180000  17.250000     0.918300   6.579000   4.033000   8.315000   \n",
                            "\n",
                            "       groove_length  \n",
                            "count      90.000000  \n",
                            "mean        5.409122  \n",
                            "std         0.475133  \n",
                            "min         4.605000  \n",
                            "25%         5.069250  \n",
                            "50%         5.226000  \n",
                            "75%         5.826500  \n",
                            "max         6.451000  "
                        ]
                    },
                    "execution_count": 253,
                    "metadata": {},
                    "output_type": "execute_result"
                }
            ],
            "source": [
                "seed_data.describe()"
            ]
        },
        {
            "cell_type": "code",
            "execution_count": 254,
            "metadata": {},
            "outputs": [
                {
                    "data": {
                        "text/plain": [
                            "LABEL\n",
                            "Canadian    30\n",
                            "Kama        30\n",
                            "Rosa        30\n",
                            "Name: count, dtype: int64"
                        ]
                    },
                    "execution_count": 254,
                    "metadata": {},
                    "output_type": "execute_result"
                }
            ],
            "source": [
                "seed_data[\"LABEL\"].value_counts()"
            ]
        },
        {
            "cell_type": "code",
            "execution_count": 255,
            "metadata": {},
            "outputs": [],
            "source": [
                "from sklearn.preprocessing import LabelEncoder\n",
                "\n",
                "le = LabelEncoder()\n",
                "seed_data['LABEL'] = le.fit_transform(seed_data['LABEL'])"
            ]
        },
        {
            "cell_type": "code",
            "execution_count": 256,
            "metadata": {},
            "outputs": [],
            "source": [
                "X = seed_data.drop(\"LABEL\", axis=1)\n",
                "y = seed_data[\"LABEL\"]"
            ]
        },
        {
            "cell_type": "code",
            "execution_count": 257,
            "metadata": {},
            "outputs": [],
            "source": [
                "X_train_raw, X_test_raw, y_train, y_test = train_test_split(\n",
                "    X, y, test_size=0.2, stratify=y, random_state=42\n",
                ")"
            ]
        },
        {
            "cell_type": "markdown",
            "metadata": {},
            "source": [
                "### Gaussian Naïve Bayes"
            ]
        },
        {
            "cell_type": "code",
            "execution_count": 258,
            "metadata": {},
            "outputs": [
                {
                    "name": "stdout",
                    "output_type": "stream",
                    "text": [
                        "==== Gaussian Naive Bayes ====\n",
                        "Training Data (Gaussian):\n",
                        "      area  perimeter  compactness  length  width  asymmetry  groove_length\n",
                        "9   12.26      13.60       0.8333   5.408  2.833      4.756          5.360\n",
                        "15  11.02      13.00       0.8189   5.325  2.701      6.735          5.163\n",
                        "76  20.16      17.03       0.8735   6.513  3.773      1.910          6.185\n",
                        "22  12.19      13.36       0.8579   5.240  2.909      4.857          5.158\n",
                        "49  14.99      14.56       0.8883   5.570  3.377      2.958          5.175\n",
                        "\n",
                        "Training Labels:\n",
                        " 9     0\n",
                        "15    0\n",
                        "76    2\n",
                        "22    0\n",
                        "49    1\n",
                        "Name: LABEL, dtype: int64\n",
                        "\n",
                        "Testing Data (Gaussian):\n",
                        "      area  perimeter  compactness  length  width  asymmetry  groove_length\n",
                        "71  17.12      15.55       0.8892   5.850  3.566      2.858          5.746\n",
                        "10  11.55      13.10       0.8455   5.167  2.845      6.715          4.956\n",
                        "44  12.36      13.19       0.8923   5.076  3.042      3.220          4.605\n",
                        "39  13.89      14.02       0.8880   5.439  3.199      3.986          4.738\n",
                        "74  15.38      14.90       0.8706   5.884  3.268      4.462          5.795\n",
                        "\n",
                        "Testing Labels:\n",
                        " 71    2\n",
                        "10    0\n",
                        "44    1\n",
                        "39    1\n",
                        "74    2\n",
                        "Name: LABEL, dtype: int64\n"
                    ]
                }
            ],
            "source": [
                "print(\"==== Gaussian Naive Bayes ====\")\n",
                "print(\"Training Data (Gaussian):\\n\", X_train_raw.head())\n",
                "print(\"\\nTraining Labels:\\n\", y_train.head())\n",
                "print(\"\\nTesting Data (Gaussian):\\n\", X_test_raw.head())\n",
                "print(\"\\nTesting Labels:\\n\", y_test.head())"
            ]
        },
        {
            "cell_type": "code",
            "execution_count": 259,
            "metadata": {},
            "outputs": [],
            "source": [
                "gnb = GaussianNB()\n",
                "gnb.fit(X_train_raw, y_train)\n",
                "y_pred_gnb = gnb.predict(X_test_raw)\n",
                "y_proba_gnb = gnb.predict_proba(X_test_raw)"
            ]
        },
        {
            "cell_type": "code",
            "execution_count": 260,
            "metadata": {},
            "outputs": [
                {
                    "name": "stdout",
                    "output_type": "stream",
                    "text": [
                        "\n",
                        "Accuracy: 0.8888888888888888\n",
                        "\n",
                        "Classification Report:\n",
                        "               precision    recall  f1-score   support\n",
                        "\n",
                        "           0       0.86      1.00      0.92         6\n",
                        "           1       0.83      0.83      0.83         6\n",
                        "           2       1.00      0.83      0.91         6\n",
                        "\n",
                        "    accuracy                           0.89        18\n",
                        "   macro avg       0.90      0.89      0.89        18\n",
                        "weighted avg       0.90      0.89      0.89        18\n",
                        "\n"
                    ]
                }
            ],
            "source": [
                "print(\"\\nAccuracy:\", accuracy_score(y_test, y_pred_gnb))\n",
                "print(\"\\nClassification Report:\\n\", classification_report(y_test, y_pred_gnb))"
            ]
        },
        {
            "cell_type": "code",
            "execution_count": 261,
            "metadata": {},
            "outputs": [
                {
                    "data": {
                        "image/png": "[encoded data removed]",
                        "text/plain": [
                            "<Figure size 640x480 with 2 Axes>"
                        ]
                    },
                    "metadata": {},
                    "output_type": "display_data"
                }
            ],
            "source": [
                "ConfusionMatrixDisplay.from_predictions(y_test, y_pred_gnb, cmap=\"Blues\")\n",
                "plt.title(\"Gaussian Naive Bayes - Confusion Matrix\")\n",
                "plt.show()"
            ]
        },
        {
            "cell_type": "code",
            "execution_count": 262,
            "metadata": {},
            "outputs": [
                {
                    "name": "stdout",
                    "output_type": "stream",
                    "text": [
                        "\n",
                        "Prediction Probabilities (first 10 rows):\n",
                        "   Prob_Class_0  Prob_Class_1  Prob_Class_2\n",
                        "0  2.371330e-29  1.693809e-04  9.998306e-01\n",
                        "1  1.000000e+00  1.953322e-12  8.492559e-26\n",
                        "2  8.538029e-01  1.461971e-01  3.798217e-17\n",
                        "3  2.870518e-05  9.999713e-01  1.091805e-12\n",
                        "4  9.781740e-15  9.278424e-01  7.215765e-02\n",
                        "5  1.578700e-12  9.999996e-01  3.532665e-07\n",
                        "6  1.000000e+00  1.163711e-08  1.730012e-23\n",
                        "7  2.005459e-65  8.913675e-20  1.000000e+00\n",
                        "8  3.196377e-24  1.503113e-04  9.998497e-01\n",
                        "9  1.000000e+00  1.976089e-09  1.020962e-24\n"
                    ]
                }
            ],
            "source": [
                "print(\"\\nPrediction Probabilities (first 10 rows):\")\n",
                "print(pd.DataFrame(y_proba_gnb, columns=[f\"Prob_Class_{cls}\" for cls in gnb.classes_]).head(10))"
            ]
        },
        {
            "cell_type": "markdown",
            "metadata": {},
            "source": [
                "### Categorical Naive Bayes"
            ]
        },
        {
            "cell_type": "code",
            "execution_count": 263,
            "metadata": {},
            "outputs": [],
            "source": [
                "cat_encoder = KBinsDiscretizer(n_bins=5, encode='ordinal', strategy='uniform')\n",
                "X_train_cat = cat_encoder.fit_transform(X_train_raw)\n",
                "X_test_cat = cat_encoder.transform(X_test_raw)"
            ]
        },
        {
            "cell_type": "code",
            "execution_count": 264,
            "metadata": {},
            "outputs": [
                {
                    "name": "stdout",
                    "output_type": "stream",
                    "text": [
                        "Training Data (Categorical - binned):\n",
                        "    area  perimeter  compactness  length  width  asymmetry  groove_length\n",
                        "0   0.0        1.0          1.0     1.0    0.0        2.0            1.0\n",
                        "1   0.0        0.0          0.0     1.0    0.0        3.0            1.0\n",
                        "2   4.0        4.0          2.0     4.0    4.0        0.0            4.0\n",
                        "3   0.0        0.0          2.0     1.0    0.0        2.0            1.0\n",
                        "4   2.0        2.0          3.0     1.0    2.0        1.0            1.0\n",
                        "\n",
                        "Training Labels:\n",
                        " 9     0\n",
                        "15    0\n",
                        "76    2\n",
                        "22    0\n",
                        "49    1\n",
                        "Name: LABEL, dtype: int64\n",
                        "\n",
                        "Testing Data (Categorical - binned):\n",
                        "    area  perimeter  compactness  length  width  asymmetry  groove_length\n",
                        "0   3.0        3.0          3.0     2.0    3.0        1.0            3.0\n",
                        "1   0.0        0.0          1.0     0.0    0.0        3.0            0.0\n",
                        "2   0.0        0.0          3.0     0.0    1.0        1.0            0.0\n",
                        "3   1.0        1.0          3.0     1.0    2.0        2.0            0.0\n",
                        "4   2.0        2.0          2.0     2.0    2.0        2.0            3.0\n",
                        "\n",
                        "Testing Labels:\n",
                        " 71    2\n",
                        "10    0\n",
                        "44    1\n",
                        "39    1\n",
                        "74    2\n",
                        "Name: LABEL, dtype: int64\n"
                    ]
                }
            ],
            "source": [
                "print(\"Training Data (Categorical - binned):\\n\", pd.DataFrame(X_train_cat, columns=X.columns).head())\n",
                "print(\"\\nTraining Labels:\\n\", y_train.head())\n",
                "print(\"\\nTesting Data (Categorical - binned):\\n\", pd.DataFrame(X_test_cat, columns=X.columns).head())\n",
                "print(\"\\nTesting Labels:\\n\", y_test.head())"
            ]
        },
        {
            "cell_type": "code",
            "execution_count": 265,
            "metadata": {},
            "outputs": [],
            "source": [
                "cnb = CategoricalNB()\n",
                "cnb.fit(X_train_cat, y_train)\n",
                "y_pred_cnb = cnb.predict(X_test_cat)\n",
                "y_proba_cnb = cnb.predict_proba(X_test_cat)"
            ]
        },
        {
            "cell_type": "code",
            "execution_count": 266,
            "metadata": {},
            "outputs": [
                {
                    "name": "stdout",
                    "output_type": "stream",
                    "text": [
                        "\n",
                        "Accuracy: 0.8888888888888888\n",
                        "\n",
                        "Classification Report:\n",
                        "               precision    recall  f1-score   support\n",
                        "\n",
                        "           0       0.86      1.00      0.92         6\n",
                        "           1       0.83      0.83      0.83         6\n",
                        "           2       1.00      0.83      0.91         6\n",
                        "\n",
                        "    accuracy                           0.89        18\n",
                        "   macro avg       0.90      0.89      0.89        18\n",
                        "weighted avg       0.90      0.89      0.89        18\n",
                        "\n"
                    ]
                }
            ],
            "source": [
                "print(\"\\nAccuracy:\", accuracy_score(y_test, y_pred_cnb))\n",
                "print(\"\\nClassification Report:\\n\", classification_report(y_test, y_pred_cnb))"
            ]
        },
        {
            "cell_type": "code",
            "execution_count": 267,
            "metadata": {},
            "outputs": [
                {
                    "data": {
                        "image/png": "[encoded data removed]",
                        "text/plain": [
                            "<Figure size 640x480 with 2 Axes>"
                        ]
                    },
                    "metadata": {},
                    "output_type": "display_data"
                }
            ],
            "source": [
                "ConfusionMatrixDisplay.from_predictions(y_test, y_pred_cnb, cmap=\"Greens\")\n",
                "plt.title(\"Categorical Naive Bayes - Confusion Matrix\")\n",
                "plt.show()"
            ]
        },
        {
            "cell_type": "code",
            "execution_count": 268,
            "metadata": {},
            "outputs": [
                {
                    "name": "stdout",
                    "output_type": "stream",
                    "text": [
                        "\n",
                        "Prediction Probabilities (first 10 rows):\n",
                        "   Prob_Class_0  Prob_Class_1  Prob_Class_2\n",
                        "0      0.000001      0.001107  9.988921e-01\n",
                        "1      0.999991      0.000009  4.499112e-07\n",
                        "2      0.929411      0.070250  3.387066e-04\n",
                        "3      0.075551      0.924383  6.666222e-05\n",
                        "4      0.000189      0.954842  4.496902e-02\n",
                        "5      0.000002      0.999409  5.883493e-04\n",
                        "6      0.998563      0.001415  2.211245e-05\n",
                        "7      0.000002      0.000047  9.999504e-01\n",
                        "8      0.000369      0.240017  7.596139e-01\n",
                        "9      0.999914      0.000083  2.604985e-06\n"
                    ]
                }
            ],
            "source": [
                "print(\"\\nPrediction Probabilities (first 10 rows):\")\n",
                "print(pd.DataFrame(y_proba_cnb, columns=[f\"Prob_Class_{cls}\" for cls in cnb.classes_]).head(10))"
            ]
        },
        {
            "cell_type": "markdown",
            "metadata": {},
            "source": [
                "### Multinomial Naive Bayes"
            ]
        },
        {
            "cell_type": "code",
            "execution_count": 269,
            "metadata": {},
            "outputs": [],
            "source": [
                "le = LabelEncoder()\n",
                "seed_data[\"LABEL\"] = le.fit_transform(seed_data[\"LABEL\"]) \n"
            ]
        },
        {
            "cell_type": "code",
            "execution_count": 270,
            "metadata": {},
            "outputs": [],
            "source": [
                "X = seed_data.drop(\"LABEL\", axis=1).astype(int)\n",
                "y = seed_data[\"LABEL\"]\n"
            ]
        },
        {
            "cell_type": "code",
            "execution_count": 271,
            "metadata": {},
            "outputs": [],
            "source": [
                "X_train, X_test, y_train, y_test = train_test_split(\n",
                "    X, y, test_size=0.2, random_state=42, stratify=y\n",
                ")"
            ]
        },
        {
            "cell_type": "code",
            "execution_count": 272,
            "metadata": {},
            "outputs": [
                {
                    "name": "stdout",
                    "output_type": "stream",
                    "text": [
                        "Training Data (Multinomial - count based):\n",
                        "     area  perimeter  compactness  length  width  asymmetry  groove_length\n",
                        "9     12         13            0       5      2          4              5\n",
                        "15    11         13            0       5      2          6              5\n",
                        "76    20         17            0       6      3          1              6\n",
                        "22    12         13            0       5      2          4              5\n",
                        "49    14         14            0       5      3          2              5\n",
                        "\n",
                        "Training Labels:\n",
                        " 9     0\n",
                        "15    0\n",
                        "76    2\n",
                        "22    0\n",
                        "49    1\n",
                        "Name: LABEL, dtype: int64\n",
                        "\n",
                        "Testing Data (multinomial - Count bases):\n",
                        "     area  perimeter  compactness  length  width  asymmetry  groove_length\n",
                        "71    17         15            0       5      3          2              5\n",
                        "10    11         13            0       5      2          6              4\n",
                        "44    12         13            0       5      3          3              4\n",
                        "39    13         14            0       5      3          3              4\n",
                        "74    15         14            0       5      3          4              5\n",
                        "\n",
                        "Testing Labels:\n",
                        " 71    2\n",
                        "10    0\n",
                        "44    1\n",
                        "39    1\n",
                        "74    2\n",
                        "Name: LABEL, dtype: int64\n"
                    ]
                }
            ],
            "source": [
                "print(\"Training Data (Multinomial - count based):\\n\", pd.DataFrame(X_train, columns=X.columns).head())\n",
                "print(\"\\nTraining Labels:\\n\", y_train.head())\n",
                "print(\"\\nTesting Data (multinomial - Count bases):\\n\", pd.DataFrame(X_test, columns=X.columns).head())\n",
                "print(\"\\nTesting Labels:\\n\", y_test.head())"
            ]
        },
        {
            "cell_type": "code",
            "execution_count": 273,
            "metadata": {},
            "outputs": [
                {
                    "data": {
                        "text/html": [
                            "<style>#sk-container-id-7 {\n",
                            "  /* Definition of color scheme common for light and dark mode */\n",
                            "  --sklearn-color-text: #000;\n",
                            "  --sklearn-color-text-muted: #666;\n",
                            "  --sklearn-color-line: gray;\n",
                            "  /* Definition of color scheme for unfitted estimators */\n",
                            "  --sklearn-color-unfitted-level-0: #fff5e6;\n",
                            "  --sklearn-color-unfitted-level-1: #f6e4d2;\n",
                            "  --sklearn-color-unfitted-level-2: #ffe0b3;\n",
                            "  --sklearn-color-unfitted-level-3: chocolate;\n",
                            "  /* Definition of color scheme for fitted estimators */\n",
                            "  --sklearn-color-fitted-level-0: #f0f8ff;\n",
                            "  --sklearn-color-fitted-level-1: #d4ebff;\n",
                            "  --sklearn-color-fitted-level-2: #b3dbfd;\n",
                            "  --sklearn-color-fitted-level-3: cornflowerblue;\n",
                            "\n",
                            "  /* Specific color for light theme */\n",
                            "  --sklearn-color-text-on-default-background: var(--sg-text-color, var(--theme-code-foreground, var(--jp-content-font-color1, black)));\n",
                            "  --sklearn-color-background: var(--sg-background-color, var(--theme-background, var(--jp-layout-color0, white)));\n",
                            "  --sklearn-color-border-box: var(--sg-text-color, var(--theme-code-foreground, var(--jp-content-font-color1, black)));\n",
                            "  --sklearn-color-icon: #696969;\n",
                            "\n",
                            "  @media (prefers-color-scheme: dark) {\n",
                            "    /* Redefinition of color scheme for dark theme */\n",
                            "    --sklearn-color-text-on-default-background: var(--sg-text-color, var(--theme-code-foreground, var(--jp-content-font-color1, white)));\n",
                            "    --sklearn-color-background: var(--sg-background-color, var(--theme-background, var(--jp-layout-color0, #111)));\n",
                            "    --sklearn-color-border-box: var(--sg-text-color, var(--theme-code-foreground, var(--jp-content-font-color1, white)));\n",
                            "    --sklearn-color-icon: #878787;\n",
                            "  }\n",
                            "}\n",
                            "\n",
                            "#sk-container-id-7 {\n",
                            "  color: var(--sklearn-color-text);\n",
                            "}\n",
                            "\n",
                            "#sk-container-id-7 pre {\n",
                            "  padding: 0;\n",
                            "}\n",
                            "\n",
                            "#sk-container-id-7 input.sk-hidden--visually {\n",
                            "  border: 0;\n",
                            "  clip: rect(1px 1px 1px 1px);\n",
                            "  clip: rect(1px, 1px, 1px, 1px);\n",
                            "  height: 1px;\n",
                            "  margin: -1px;\n",
                            "  overflow: hidden;\n",
                            "  padding: 0;\n",
                            "  position: absolute;\n",
                            "  width: 1px;\n",
                            "}\n",
                            "\n",
                            "#sk-container-id-7 div.sk-dashed-wrapped {\n",
                            "  border: 1px dashed var(--sklearn-color-line);\n",
                            "  margin: 0 0.4em 0.5em 0.4em;\n",
                            "  box-sizing: border-box;\n",
                            "  padding-bottom: 0.4em;\n",
                            "  background-color: var(--sklearn-color-background);\n",
                            "}\n",
                            "\n",
                            "#sk-container-id-7 div.sk-container {\n",
                            "  /* jupyter's `normalize.less` sets `[hidden] { display: none; }`\n",
                            "     but bootstrap.min.css set `[hidden] { display: none !important; }`\n",
                            "     so we also need the `!important` here to be able to override the\n",
                            "     default hidden behavior on the sphinx rendered scikit-learn.org.\n",
                            "     See: https://github.com/scikit-learn/scikit-learn/issues/21755 */\n",
                            "  display: inline-block !important;\n",
                            "  position: relative;\n",
                            "}\n",
                            "\n",
                            "#sk-container-id-7 div.sk-text-repr-fallback {\n",
                            "  display: none;\n",
                            "}\n",
                            "\n",
                            "div.sk-parallel-item,\n",
                            "div.sk-serial,\n",
                            "div.sk-item {\n",
                            "  /* draw centered vertical line to link estimators */\n",
                            "  background-image: linear-gradient(var(--sklearn-color-text-on-default-background), var(--sklearn-color-text-on-default-background));\n",
                            "  background-size: 2px 100%;\n",
                            "  background-repeat: no-repeat;\n",
                            "  background-position: center center;\n",
                            "}\n",
                            "\n",
                            "/* Parallel-specific style estimator block */\n",
                            "\n",
                            "#sk-container-id-7 div.sk-parallel-item::after {\n",
                            "  content: \"\";\n",
                            "  width: 100%;\n",
                            "  border-bottom: 2px solid var(--sklearn-color-text-on-default-background);\n",
                            "  flex-grow: 1;\n",
                            "}\n",
                            "\n",
                            "#sk-container-id-7 div.sk-parallel {\n",
                            "  display: flex;\n",
                            "  align-items: stretch;\n",
                            "  justify-content: center;\n",
                            "  background-color: var(--sklearn-color-background);\n",
                            "  position: relative;\n",
                            "}\n",
                            "\n",
                            "#sk-container-id-7 div.sk-parallel-item {\n",
                            "  display: flex;\n",
                            "  flex-direction: column;\n",
                            "}\n",
                            "\n",
                            "#sk-container-id-7 div.sk-parallel-item:first-child::after {\n",
                            "  align-self: flex-end;\n",
                            "  width: 50%;\n",
                            "}\n",
                            "\n",
                            "#sk-container-id-7 div.sk-parallel-item:last-child::after {\n",
                            "  align-self: flex-start;\n",
                            "  width: 50%;\n",
                            "}\n",
                            "\n",
                            "#sk-container-id-7 div.sk-parallel-item:only-child::after {\n",
                            "  width: 0;\n",
                            "}\n",
                            "\n",
                            "/* Serial-specific style estimator block */\n",
                            "\n",
                            "#sk-container-id-7 div.sk-serial {\n",
                            "  display: flex;\n",
                            "  flex-direction: column;\n",
                            "  align-items: center;\n",
                            "  background-color: var(--sklearn-color-background);\n",
                            "  padding-right: 1em;\n",
                            "  padding-left: 1em;\n",
                            "}\n",
                            "\n",
                            "\n",
                            "/* Toggleable style: style used for estimator/Pipeline/ColumnTransformer box that is\n",
                            "clickable and can be expanded/collapsed.\n",
                            "- Pipeline and ColumnTransformer use this feature and define the default style\n",
                            "- Estimators will overwrite some part of the style using the `sk-estimator` class\n",
                            "*/\n",
                            "\n",
                            "/* Pipeline and ColumnTransformer style (default) */\n",
                            "\n",
                            "#sk-container-id-7 div.sk-toggleable {\n",
                            "  /* Default theme specific background. It is overwritten whether we have a\n",
                            "  specific estimator or a Pipeline/ColumnTransformer */\n",
                            "  background-color: var(--sklearn-color-background);\n",
                            "}\n",
                            "\n",
                            "/* Toggleable label */\n",
                            "#sk-container-id-7 label.sk-toggleable__label {\n",
                            "  cursor: pointer;\n",
                            "  display: flex;\n",
                            "  width: 100%;\n",
                            "  margin-bottom: 0;\n",
                            "  padding: 0.5em;\n",
                            "  box-sizing: border-box;\n",
                            "  text-align: center;\n",
                            "  align-items: start;\n",
                            "  justify-content: space-between;\n",
                            "  gap: 0.5em;\n",
                            "}\n",
                            "\n",
                            "#sk-container-id-7 label.sk-toggleable__label .caption {\n",
                            "  font-size: 0.6rem;\n",
                            "  font-weight: lighter;\n",
                            "  color: var(--sklearn-color-text-muted);\n",
                            "}\n",
                            "\n",
                            "#sk-container-id-7 label.sk-toggleable__label-arrow:before {\n",
                            "  /* Arrow on the left of the label */\n",
                            "  content: \"▸\";\n",
                            "  float: left;\n",
                            "  margin-right: 0.25em;\n",
                            "  color: var(--sklearn-color-icon);\n",
                            "}\n",
                            "\n",
                            "#sk-container-id-7 label.sk-toggleable__label-arrow:hover:before {\n",
                            "  color: var(--sklearn-color-text);\n",
                            "}\n",
                            "\n",
                            "/* Toggleable content - dropdown */\n",
                            "\n",
                            "#sk-container-id-7 div.sk-toggleable__content {\n",
                            "  max-height: 0;\n",
                            "  max-width: 0;\n",
                            "  overflow: hidden;\n",
                            "  text-align: left;\n",
                            "  /* unfitted */\n",
                            "  background-color: var(--sklearn-color-unfitted-level-0);\n",
                            "}\n",
                            "\n",
                            "#sk-container-id-7 div.sk-toggleable__content.fitted {\n",
                            "  /* fitted */\n",
                            "  background-color: var(--sklearn-color-fitted-level-0);\n",
                            "}\n",
                            "\n",
                            "#sk-container-id-7 div.sk-toggleable__content pre {\n",
                            "  margin: 0.2em;\n",
                            "  border-radius: 0.25em;\n",
                            "  color: var(--sklearn-color-text);\n",
                            "  /* unfitted */\n",
                            "  background-color: var(--sklearn-color-unfitted-level-0);\n",
                            "}\n",
                            "\n",
                            "#sk-container-id-7 div.sk-toggleable__content.fitted pre {\n",
                            "  /* unfitted */\n",
                            "  background-color: var(--sklearn-color-fitted-level-0);\n",
                            "}\n",
                            "\n",
                            "#sk-container-id-7 input.sk-toggleable__control:checked~div.sk-toggleable__content {\n",
                            "  /* Expand drop-down */\n",
                            "  max-height: 200px;\n",
                            "  max-width: 100%;\n",
                            "  overflow: auto;\n",
                            "}\n",
                            "\n",
                            "#sk-container-id-7 input.sk-toggleable__control:checked~label.sk-toggleable__label-arrow:before {\n",
                            "  content: \"▾\";\n",
                            "}\n",
                            "\n",
                            "/* Pipeline/ColumnTransformer-specific style */\n",
                            "\n",
                            "#sk-container-id-7 div.sk-label input.sk-toggleable__control:checked~label.sk-toggleable__label {\n",
                            "  color: var(--sklearn-color-text);\n",
                            "  background-color: var(--sklearn-color-unfitted-level-2);\n",
                            "}\n",
                            "\n",
                            "#sk-container-id-7 div.sk-label.fitted input.sk-toggleable__control:checked~label.sk-toggleable__label {\n",
                            "  background-color: var(--sklearn-color-fitted-level-2);\n",
                            "}\n",
                            "\n",
                            "/* Estimator-specific style */\n",
                            "\n",
                            "/* Colorize estimator box */\n",
                            "#sk-container-id-7 div.sk-estimator input.sk-toggleable__control:checked~label.sk-toggleable__label {\n",
                            "  /* unfitted */\n",
                            "  background-color: var(--sklearn-color-unfitted-level-2);\n",
                            "}\n",
                            "\n",
                            "#sk-container-id-7 div.sk-estimator.fitted input.sk-toggleable__control:checked~label.sk-toggleable__label {\n",
                            "  /* fitted */\n",
                            "  background-color: var(--sklearn-color-fitted-level-2);\n",
                            "}\n",
                            "\n",
                            "#sk-container-id-7 div.sk-label label.sk-toggleable__label,\n",
                            "#sk-container-id-7 div.sk-label label {\n",
                            "  /* The background is the default theme color */\n",
                            "  color: var(--sklearn-color-text-on-default-background);\n",
                            "}\n",
                            "\n",
                            "/* On hover, darken the color of the background */\n",
                            "#sk-container-id-7 div.sk-label:hover label.sk-toggleable__label {\n",
                            "  color: var(--sklearn-color-text);\n",
                            "  background-color: var(--sklearn-color-unfitted-level-2);\n",
                            "}\n",
                            "\n",
                            "/* Label box, darken color on hover, fitted */\n",
                            "#sk-container-id-7 div.sk-label.fitted:hover label.sk-toggleable__label.fitted {\n",
                            "  color: var(--sklearn-color-text);\n",
                            "  background-color: var(--sklearn-color-fitted-level-2);\n",
                            "}\n",
                            "\n",
                            "/* Estimator label */\n",
                            "\n",
                            "#sk-container-id-7 div.sk-label label {\n",
                            "  font-family: monospace;\n",
                            "  font-weight: bold;\n",
                            "  display: inline-block;\n",
                            "  line-height: 1.2em;\n",
                            "}\n",
                            "\n",
                            "#sk-container-id-7 div.sk-label-container {\n",
                            "  text-align: center;\n",
                            "}\n",
                            "\n",
                            "/* Estimator-specific */\n",
                            "#sk-container-id-7 div.sk-estimator {\n",
                            "  font-family: monospace;\n",
                            "  border: 1px dotted var(--sklearn-color-border-box);\n",
                            "  border-radius: 0.25em;\n",
                            "  box-sizing: border-box;\n",
                            "  margin-bottom: 0.5em;\n",
                            "  /* unfitted */\n",
                            "  background-color: var(--sklearn-color-unfitted-level-0);\n",
                            "}\n",
                            "\n",
                            "#sk-container-id-7 div.sk-estimator.fitted {\n",
                            "  /* fitted */\n",
                            "  background-color: var(--sklearn-color-fitted-level-0);\n",
                            "}\n",
                            "\n",
                            "/* on hover */\n",
                            "#sk-container-id-7 div.sk-estimator:hover {\n",
                            "  /* unfitted */\n",
                            "  background-color: var(--sklearn-color-unfitted-level-2);\n",
                            "}\n",
                            "\n",
                            "#sk-container-id-7 div.sk-estimator.fitted:hover {\n",
                            "  /* fitted */\n",
                            "  background-color: var(--sklearn-color-fitted-level-2);\n",
                            "}\n",
                            "\n",
                            "/* Specification for estimator info (e.g. \"i\" and \"?\") */\n",
                            "\n",
                            "/* Common style for \"i\" and \"?\" */\n",
                            "\n",
                            ".sk-estimator-doc-link,\n",
                            "a:link.sk-estimator-doc-link,\n",
                            "a:visited.sk-estimator-doc-link {\n",
                            "  float: right;\n",
                            "  font-size: smaller;\n",
                            "  line-height: 1em;\n",
                            "  font-family: monospace;\n",
                            "  background-color: var(--sklearn-color-background);\n",
                            "  border-radius: 1em;\n",
                            "  height: 1em;\n",
                            "  width: 1em;\n",
                            "  text-decoration: none !important;\n",
                            "  margin-left: 0.5em;\n",
                            "  text-align: center;\n",
                            "  /* unfitted */\n",
                            "  border: var(--sklearn-color-unfitted-level-1) 1pt solid;\n",
                            "  color: var(--sklearn-color-unfitted-level-1);\n",
                            "}\n",
                            "\n",
                            ".sk-estimator-doc-link.fitted,\n",
                            "a:link.sk-estimator-doc-link.fitted,\n",
                            "a:visited.sk-estimator-doc-link.fitted {\n",
                            "  /* fitted */\n",
                            "  border: var(--sklearn-color-fitted-level-1) 1pt solid;\n",
                            "  color: var(--sklearn-color-fitted-level-1);\n",
                            "}\n",
                            "\n",
                            "/* On hover */\n",
                            "div.sk-estimator:hover .sk-estimator-doc-link:hover,\n",
                            ".sk-estimator-doc-link:hover,\n",
                            "div.sk-label-container:hover .sk-estimator-doc-link:hover,\n",
                            ".sk-estimator-doc-link:hover {\n",
                            "  /* unfitted */\n",
                            "  background-color: var(--sklearn-color-unfitted-level-3);\n",
                            "  color: var(--sklearn-color-background);\n",
                            "  text-decoration: none;\n",
                            "}\n",
                            "\n",
                            "div.sk-estimator.fitted:hover .sk-estimator-doc-link.fitted:hover,\n",
                            ".sk-estimator-doc-link.fitted:hover,\n",
                            "div.sk-label-container:hover .sk-estimator-doc-link.fitted:hover,\n",
                            ".sk-estimator-doc-link.fitted:hover {\n",
                            "  /* fitted */\n",
                            "  background-color: var(--sklearn-color-fitted-level-3);\n",
                            "  color: var(--sklearn-color-background);\n",
                            "  text-decoration: none;\n",
                            "}\n",
                            "\n",
                            "/* Span, style for the box shown on hovering the info icon */\n",
                            ".sk-estimator-doc-link span {\n",
                            "  display: none;\n",
                            "  z-index: 9999;\n",
                            "  position: relative;\n",
                            "  font-weight: normal;\n",
                            "  right: .2ex;\n",
                            "  padding: .5ex;\n",
                            "  margin: .5ex;\n",
                            "  width: min-content;\n",
                            "  min-width: 20ex;\n",
                            "  max-width: 50ex;\n",
                            "  color: var(--sklearn-color-text);\n",
                            "  box-shadow: 2pt 2pt 4pt #999;\n",
                            "  /* unfitted */\n",
                            "  background: var(--sklearn-color-unfitted-level-0);\n",
                            "  border: .5pt solid var(--sklearn-color-unfitted-level-3);\n",
                            "}\n",
                            "\n",
                            ".sk-estimator-doc-link.fitted span {\n",
                            "  /* fitted */\n",
                            "  background: var(--sklearn-color-fitted-level-0);\n",
                            "  border: var(--sklearn-color-fitted-level-3);\n",
                            "}\n",
                            "\n",
                            ".sk-estimator-doc-link:hover span {\n",
                            "  display: block;\n",
                            "}\n",
                            "\n",
                            "/* \"?\"-specific style due to the `<a>` HTML tag */\n",
                            "\n",
                            "#sk-container-id-7 a.estimator_doc_link {\n",
                            "  float: right;\n",
                            "  font-size: 1rem;\n",
                            "  line-height: 1em;\n",
                            "  font-family: monospace;\n",
                            "  background-color: var(--sklearn-color-background);\n",
                            "  border-radius: 1rem;\n",
                            "  height: 1rem;\n",
                            "  width: 1rem;\n",
                            "  text-decoration: none;\n",
                            "  /* unfitted */\n",
                            "  color: var(--sklearn-color-unfitted-level-1);\n",
                            "  border: var(--sklearn-color-unfitted-level-1) 1pt solid;\n",
                            "}\n",
                            "\n",
                            "#sk-container-id-7 a.estimator_doc_link.fitted {\n",
                            "  /* fitted */\n",
                            "  border: var(--sklearn-color-fitted-level-1) 1pt solid;\n",
                            "  color: var(--sklearn-color-fitted-level-1);\n",
                            "}\n",
                            "\n",
                            "/* On hover */\n",
                            "#sk-container-id-7 a.estimator_doc_link:hover {\n",
                            "  /* unfitted */\n",
                            "  background-color: var(--sklearn-color-unfitted-level-3);\n",
                            "  color: var(--sklearn-color-background);\n",
                            "  text-decoration: none;\n",
                            "}\n",
                            "\n",
                            "#sk-container-id-7 a.estimator_doc_link.fitted:hover {\n",
                            "  /* fitted */\n",
                            "  background-color: var(--sklearn-color-fitted-level-3);\n",
                            "}\n",
                            "</style><div id=\"sk-container-id-7\" class=\"sk-top-container\"><div class=\"sk-text-repr-fallback\"><pre>MultinomialNB()</pre><b>In a Jupyter environment, please rerun this cell to show the HTML representation or trust the notebook. <br />On GitHub, the HTML representation is unable to render, please try loading this page with nbviewer.org.</b></div><div class=\"sk-container\" hidden><div class=\"sk-item\"><div class=\"sk-estimator fitted sk-toggleable\"><input class=\"sk-toggleable__control sk-hidden--visually\" id=\"sk-estimator-id-7\" type=\"checkbox\" checked><label for=\"sk-estimator-id-7\" class=\"sk-toggleable__label fitted sk-toggleable__label-arrow\"><div><div>MultinomialNB</div></div><div><a class=\"sk-estimator-doc-link fitted\" rel=\"noreferrer\" target=\"_blank\" href=\"https://scikit-learn.org/1.6/modules/generated/sklearn.naive_bayes.MultinomialNB.html\">?<span>Documentation for MultinomialNB</span></a><span class=\"sk-estimator-doc-link fitted\">i<span>Fitted</span></span></div></label><div class=\"sk-toggleable__content fitted\"><pre>MultinomialNB()</pre></div> </div></div></div></div>"
                        ],
                        "text/plain": [
                            "MultinomialNB()"
                        ]
                    },
                    "execution_count": 273,
                    "metadata": {},
                    "output_type": "execute_result"
                }
            ],
            "source": [
                "mnb = MultinomialNB()\n",
                "mnb.fit(X_train, y_train)\n"
            ]
        },
        {
            "cell_type": "code",
            "execution_count": 274,
            "metadata": {},
            "outputs": [],
            "source": [
                "y_pred_mnb = mnb.predict(X_test)\n",
                "y_proba_mnb = mnb.predict_proba(X_test)\n"
            ]
        },
        {
            "cell_type": "code",
            "execution_count": 275,
            "metadata": {},
            "outputs": [
                {
                    "name": "stdout",
                    "output_type": "stream",
                    "text": [
                        "\n",
                        "Accuracy: 0.6666666666666666\n",
                        "\n",
                        "Classification Report:\n",
                        "               precision    recall  f1-score   support\n",
                        "\n",
                        "           0       0.86      1.00      0.92         6\n",
                        "           1       0.67      0.33      0.44         6\n",
                        "           2       0.50      0.67      0.57         6\n",
                        "\n",
                        "    accuracy                           0.67        18\n",
                        "   macro avg       0.67      0.67      0.65        18\n",
                        "weighted avg       0.67      0.67      0.65        18\n",
                        "\n"
                    ]
                }
            ],
            "source": [
                "print(\"\\nAccuracy:\", accuracy_score(y_test, y_pred_mnb))\n",
                "print(\"\\nClassification Report:\\n\", classification_report(y_test, y_pred_mnb))"
            ]
        },
        {
            "cell_type": "code",
            "execution_count": 276,
            "metadata": {},
            "outputs": [
                {
                    "data": {
                        "image/png": "[encoded data removed]",
                        "text/plain": [
                            "<Figure size 640x480 with 2 Axes>"
                        ]
                    },
                    "metadata": {},
                    "output_type": "display_data"
                }
            ],
            "source": [
                "ConfusionMatrixDisplay.from_predictions(y_test, y_pred_mnb, cmap=\"Oranges\")\n",
                "plt.title(\"Multinomial Naive Bayes - Confusion Matrix\")\n",
                "plt.show()"
            ]
        },
        {
            "cell_type": "code",
            "execution_count": 277,
            "metadata": {},
            "outputs": [
                {
                    "name": "stdout",
                    "output_type": "stream",
                    "text": [
                        "\n",
                        "Prediction Probabilities (first 10 rows):\n",
                        "   Prob_Class_0  Prob_Class_1  Prob_Class_2\n",
                        "0      0.070339      0.467006      0.462655\n",
                        "1      0.854219      0.045420      0.100361\n",
                        "2      0.293662      0.348689      0.357649\n",
                        "3      0.251641      0.366944      0.381416\n",
                        "4      0.344552      0.268358      0.387090\n",
                        "5      0.198052      0.372959      0.428989\n",
                        "6      0.411592      0.273944      0.314463\n",
                        "7      0.111453      0.393965      0.494583\n",
                        "8      0.471521      0.186537      0.341942\n",
                        "9      0.573185      0.172261      0.254554\n"
                    ]
                }
            ],
            "source": [
                "print(\"\\nPrediction Probabilities (first 10 rows):\")\n",
                "print(pd.DataFrame(y_proba_mnb, columns=[f\"Prob_Class_{cls}\" for cls in mnb.classes_]).head(10))"
            ]
        },
        {
            "cell_type": "code",
            "execution_count": 279,
            "metadata": {},
            "outputs": [
                {
                    "data": {
                        "image/png": "[encoded data removed]",
                        "text/plain": [
                            "<Figure size 1000x600 with 1 Axes>"
                        ]
                    },
                    "metadata": {},
                    "output_type": "display_data"
                }
            ],
            "source": [
                "models = [\n",
                "    \"Decision Tree\", \"Gaussian NB\", \"Categorical NB\",\n",
                "    \"SVM Linear\", \"SVM RBF\", \"SVM Poly\", \"Multinomial NB\"\n",
                "]\n",
                "accuracies = [0.94, 0.89, 0.89, 0.89, 0.89, 0.89, 0.66]\n",
                "\n",
                "plt.figure(figsize=(10, 6))\n",
                "bars = plt.bar(models, accuracies, color='teal')\n",
                "plt.ylim(0.6, 1.05)\n",
                "plt.ylabel(\"Accuracy\")\n",
                "plt.title(\"Model Accuracy Comparison\")\n",
                "plt.xticks(rotation=45)\n",
                "\n",
                "for bar in bars:\n",
                "    yval = bar.get_height()\n",
                "    plt.text(bar.get_x() + bar.get_width()/2, yval + 0.01, f\"{yval:.2f}\", ha='center')\n",
                "\n",
                "plt.grid(axis='y', linestyle='--', alpha=0.6)\n",
                "plt.tight_layout()\n",
                "plt.show()\n"
            ]
        }
    ],
    "metadata": {
        "kernelspec": {
            "display_name": "mlpro",
            "language": "python",
            "name": "python3"
        },
        "language_info": {
            "codemirror_mode": {
                "name": "ipython",
                "version": 3
            },
            "file_extension": ".py",
            "mimetype": "text/x-python",
            "name": "python",
            "nbconvert_exporter": "python",
            "pygments_lexer": "ipython3",
            "version": "3.9.21"
        }
    },
    "nbformat": 4,
    "nbformat_minor": 2
}
