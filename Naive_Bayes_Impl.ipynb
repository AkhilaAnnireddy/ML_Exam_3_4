{
    "cells": [
        {
            "cell_type": "markdown",
            "metadata": {},
            "source": [
                "# Gaussian NB Implementation"
            ]
        },
        {
            "cell_type": "code",
            "execution_count": 318,
            "metadata": {},
            "outputs": [],
            "source": [
                "import pandas as pd\n",
                "import numpy as np\n",
                "import matplotlib.pyplot as plt\n",
                "from sklearn.model_selection import train_test_split\n",
                "from sklearn.naive_bayes import GaussianNB, CategoricalNB, MultinomialNB\n",
                "from sklearn.metrics import classification_report, confusion_matrix, accuracy_score, ConfusionMatrixDisplay\n",
                "from sklearn.preprocessing import KBinsDiscretizer, MinMaxScaler, LabelEncoder"
            ]
        },
        {
            "cell_type": "markdown",
            "metadata": {},
            "source": [
                "### Dataset Description\n",
                "\n",
                "### Feature Description\n",
                "Area (A) – Total surface area of the kernel’s projection.\n",
                "Perimeter (P) – Length of the kernel’s outer boundary.\n",
                "Compactness (C) – Shape compactness; higher values indicate rounder shapes.\n",
                "Length – Longest dimension of the kernel.\n",
                "Width – Width measured perpendicular to the length.\n",
                "Asymmetry – Degree of shape irregularity or imbalance.\n",
                "Groove Length – Length of the central groove along the kernel.\n",
                "\n",
                "##### Class label\n",
                "\n",
                "1 → Kama – Wheat variety with moderately compact and symmetric kernels.\n",
                "2 → Rosa – Wheat variety with wider and less compact kernels.\n",
                "3 → Canadian – Wheat variety with longer grooves and higher asymmetry.\n",
                "\n",
                "\n",
                "Reference link to dataset : https://archive.ics.uci.edu/dataset/236/seeds"
            ]
        },
        {
            "cell_type": "code",
            "execution_count": 319,
            "metadata": {},
            "outputs": [],
            "source": [
                "# loading the dataset\n",
                "seed_data = pd.read_csv(\"seeds_dataset.csv\")"
            ]
        },
        {
            "cell_type": "code",
            "execution_count": 320,
            "metadata": {},
            "outputs": [
                {
                    "data": {
                        "text/html": [
                            "<div>\n",
                            "<style scoped>\n",
                            "    .dataframe tbody tr th:only-of-type {\n",
                            "        vertical-align: middle;\n",
                            "    }\n",
                            "\n",
                            "    .dataframe tbody tr th {\n",
                            "        vertical-align: top;\n",
                            "    }\n",
                            "\n",
                            "    .dataframe thead th {\n",
                            "        text-align: right;\n",
                            "    }\n",
                            "</style>\n",
                            "<table border=\"1\" class=\"dataframe\">\n",
                            "  <thead>\n",
                            "    <tr style=\"text-align: right;\">\n",
                            "      <th></th>\n",
                            "      <th>area</th>\n",
                            "      <th>perimeter</th>\n",
                            "      <th>compactness</th>\n",
                            "      <th>length</th>\n",
                            "      <th>width</th>\n",
                            "      <th>asymmetry</th>\n",
                            "      <th>groove_length</th>\n",
                            "      <th>LABEL</th>\n",
                            "    </tr>\n",
                            "  </thead>\n",
                            "  <tbody>\n",
                            "    <tr>\n",
                            "      <th>0</th>\n",
                            "      <td>12.05</td>\n",
                            "      <td>13.41</td>\n",
                            "      <td>0.8416</td>\n",
                            "      <td>5.267</td>\n",
                            "      <td>2.847</td>\n",
                            "      <td>4.988</td>\n",
                            "      <td>5.046</td>\n",
                            "      <td>Canadian</td>\n",
                            "    </tr>\n",
                            "    <tr>\n",
                            "      <th>1</th>\n",
                            "      <td>13.07</td>\n",
                            "      <td>13.92</td>\n",
                            "      <td>0.8480</td>\n",
                            "      <td>5.472</td>\n",
                            "      <td>2.994</td>\n",
                            "      <td>5.304</td>\n",
                            "      <td>5.395</td>\n",
                            "      <td>Canadian</td>\n",
                            "    </tr>\n",
                            "    <tr>\n",
                            "      <th>2</th>\n",
                            "      <td>10.59</td>\n",
                            "      <td>12.41</td>\n",
                            "      <td>0.8648</td>\n",
                            "      <td>4.899</td>\n",
                            "      <td>2.787</td>\n",
                            "      <td>4.975</td>\n",
                            "      <td>4.794</td>\n",
                            "      <td>Canadian</td>\n",
                            "    </tr>\n",
                            "    <tr>\n",
                            "      <th>3</th>\n",
                            "      <td>11.82</td>\n",
                            "      <td>13.40</td>\n",
                            "      <td>0.8274</td>\n",
                            "      <td>5.314</td>\n",
                            "      <td>2.777</td>\n",
                            "      <td>4.471</td>\n",
                            "      <td>5.178</td>\n",
                            "      <td>Canadian</td>\n",
                            "    </tr>\n",
                            "    <tr>\n",
                            "      <th>4</th>\n",
                            "      <td>12.11</td>\n",
                            "      <td>13.27</td>\n",
                            "      <td>0.8639</td>\n",
                            "      <td>5.236</td>\n",
                            "      <td>2.975</td>\n",
                            "      <td>4.132</td>\n",
                            "      <td>5.012</td>\n",
                            "      <td>Canadian</td>\n",
                            "    </tr>\n",
                            "  </tbody>\n",
                            "</table>\n",
                            "</div>"
                        ],
                        "text/plain": [
                            "    area  perimeter  compactness  length  width  asymmetry  groove_length  \\\n",
                            "0  12.05      13.41       0.8416   5.267  2.847      4.988          5.046   \n",
                            "1  13.07      13.92       0.8480   5.472  2.994      5.304          5.395   \n",
                            "2  10.59      12.41       0.8648   4.899  2.787      4.975          4.794   \n",
                            "3  11.82      13.40       0.8274   5.314  2.777      4.471          5.178   \n",
                            "4  12.11      13.27       0.8639   5.236  2.975      4.132          5.012   \n",
                            "\n",
                            "      LABEL  \n",
                            "0  Canadian  \n",
                            "1  Canadian  \n",
                            "2  Canadian  \n",
                            "3  Canadian  \n",
                            "4  Canadian  "
                        ]
                    },
                    "execution_count": 320,
                    "metadata": {},
                    "output_type": "execute_result"
                }
            ],
            "source": [
                "# dataset summary\n",
                "seed_data.head()"
            ]
        },
        {
            "cell_type": "code",
            "execution_count": 321,
            "metadata": {},
            "outputs": [
                {
                    "data": {
                        "text/plain": [
                            "(90, 8)"
                        ]
                    },
                    "execution_count": 321,
                    "metadata": {},
                    "output_type": "execute_result"
                }
            ],
            "source": [
                "seed_data.shape"
            ]
        },
        {
            "cell_type": "code",
            "execution_count": 322,
            "metadata": {},
            "outputs": [
                {
                    "data": {
                        "text/plain": [
                            "area             float64\n",
                            "perimeter        float64\n",
                            "compactness      float64\n",
                            "length           float64\n",
                            "width            float64\n",
                            "asymmetry        float64\n",
                            "groove_length    float64\n",
                            "LABEL             object\n",
                            "dtype: object"
                        ]
                    },
                    "execution_count": 322,
                    "metadata": {},
                    "output_type": "execute_result"
                }
            ],
            "source": [
                "seed_data.dtypes"
            ]
        },
        {
            "cell_type": "code",
            "execution_count": 323,
            "metadata": {},
            "outputs": [
                {
                    "data": {
                        "text/plain": [
                            "area             0\n",
                            "perimeter        0\n",
                            "compactness      0\n",
                            "length           0\n",
                            "width            0\n",
                            "asymmetry        0\n",
                            "groove_length    0\n",
                            "LABEL            0\n",
                            "dtype: int64"
                        ]
                    },
                    "execution_count": 323,
                    "metadata": {},
                    "output_type": "execute_result"
                }
            ],
            "source": [
                "seed_data.isnull().sum()"
            ]
        },
        {
            "cell_type": "code",
            "execution_count": 324,
            "metadata": {},
            "outputs": [
                {
                    "data": {
                        "text/html": [
                            "<div>\n",
                            "<style scoped>\n",
                            "    .dataframe tbody tr th:only-of-type {\n",
                            "        vertical-align: middle;\n",
                            "    }\n",
                            "\n",
                            "    .dataframe tbody tr th {\n",
                            "        vertical-align: top;\n",
                            "    }\n",
                            "\n",
                            "    .dataframe thead th {\n",
                            "        text-align: right;\n",
                            "    }\n",
                            "</style>\n",
                            "<table border=\"1\" class=\"dataframe\">\n",
                            "  <thead>\n",
                            "    <tr style=\"text-align: right;\">\n",
                            "      <th></th>\n",
                            "      <th>area</th>\n",
                            "      <th>perimeter</th>\n",
                            "      <th>compactness</th>\n",
                            "      <th>length</th>\n",
                            "      <th>width</th>\n",
                            "      <th>asymmetry</th>\n",
                            "      <th>groove_length</th>\n",
                            "    </tr>\n",
                            "  </thead>\n",
                            "  <tbody>\n",
                            "    <tr>\n",
                            "      <th>count</th>\n",
                            "      <td>90.000000</td>\n",
                            "      <td>90.000000</td>\n",
                            "      <td>90.000000</td>\n",
                            "      <td>90.000000</td>\n",
                            "      <td>90.000000</td>\n",
                            "      <td>90.000000</td>\n",
                            "      <td>90.000000</td>\n",
                            "    </tr>\n",
                            "    <tr>\n",
                            "      <th>mean</th>\n",
                            "      <td>14.922333</td>\n",
                            "      <td>14.585556</td>\n",
                            "      <td>0.871433</td>\n",
                            "      <td>5.636878</td>\n",
                            "      <td>3.268422</td>\n",
                            "      <td>3.659169</td>\n",
                            "      <td>5.409122</td>\n",
                            "    </tr>\n",
                            "    <tr>\n",
                            "      <th>std</th>\n",
                            "      <td>3.022909</td>\n",
                            "      <td>1.332049</td>\n",
                            "      <td>0.026874</td>\n",
                            "      <td>0.437506</td>\n",
                            "      <td>0.399180</td>\n",
                            "      <td>1.506971</td>\n",
                            "      <td>0.475133</td>\n",
                            "    </tr>\n",
                            "    <tr>\n",
                            "      <th>min</th>\n",
                            "      <td>10.590000</td>\n",
                            "      <td>12.410000</td>\n",
                            "      <td>0.808200</td>\n",
                            "      <td>4.899000</td>\n",
                            "      <td>2.630000</td>\n",
                            "      <td>0.765100</td>\n",
                            "      <td>4.605000</td>\n",
                            "    </tr>\n",
                            "    <tr>\n",
                            "      <th>25%</th>\n",
                            "      <td>12.207500</td>\n",
                            "      <td>13.452500</td>\n",
                            "      <td>0.856475</td>\n",
                            "      <td>5.285250</td>\n",
                            "      <td>2.909500</td>\n",
                            "      <td>2.317750</td>\n",
                            "      <td>5.069250</td>\n",
                            "    </tr>\n",
                            "    <tr>\n",
                            "      <th>50%</th>\n",
                            "      <td>14.610000</td>\n",
                            "      <td>14.360000</td>\n",
                            "      <td>0.877100</td>\n",
                            "      <td>5.555500</td>\n",
                            "      <td>3.263000</td>\n",
                            "      <td>3.390000</td>\n",
                            "      <td>5.226000</td>\n",
                            "    </tr>\n",
                            "    <tr>\n",
                            "      <th>75%</th>\n",
                            "      <td>17.045000</td>\n",
                            "      <td>15.602500</td>\n",
                            "      <td>0.890300</td>\n",
                            "      <td>5.925250</td>\n",
                            "      <td>3.561750</td>\n",
                            "      <td>4.833000</td>\n",
                            "      <td>5.826500</td>\n",
                            "    </tr>\n",
                            "    <tr>\n",
                            "      <th>max</th>\n",
                            "      <td>21.180000</td>\n",
                            "      <td>17.250000</td>\n",
                            "      <td>0.918300</td>\n",
                            "      <td>6.579000</td>\n",
                            "      <td>4.033000</td>\n",
                            "      <td>8.315000</td>\n",
                            "      <td>6.451000</td>\n",
                            "    </tr>\n",
                            "  </tbody>\n",
                            "</table>\n",
                            "</div>"
                        ],
                        "text/plain": [
                            "            area  perimeter  compactness     length      width  asymmetry  \\\n",
                            "count  90.000000  90.000000    90.000000  90.000000  90.000000  90.000000   \n",
                            "mean   14.922333  14.585556     0.871433   5.636878   3.268422   3.659169   \n",
                            "std     3.022909   1.332049     0.026874   0.437506   0.399180   1.506971   \n",
                            "min    10.590000  12.410000     0.808200   4.899000   2.630000   0.765100   \n",
                            "25%    12.207500  13.452500     0.856475   5.285250   2.909500   2.317750   \n",
                            "50%    14.610000  14.360000     0.877100   5.555500   3.263000   3.390000   \n",
                            "75%    17.045000  15.602500     0.890300   5.925250   3.561750   4.833000   \n",
                            "max    21.180000  17.250000     0.918300   6.579000   4.033000   8.315000   \n",
                            "\n",
                            "       groove_length  \n",
                            "count      90.000000  \n",
                            "mean        5.409122  \n",
                            "std         0.475133  \n",
                            "min         4.605000  \n",
                            "25%         5.069250  \n",
                            "50%         5.226000  \n",
                            "75%         5.826500  \n",
                            "max         6.451000  "
                        ]
                    },
                    "execution_count": 324,
                    "metadata": {},
                    "output_type": "execute_result"
                }
            ],
            "source": [
                "seed_data.describe()"
            ]
        },
        {
            "cell_type": "code",
            "execution_count": 325,
            "metadata": {},
            "outputs": [
                {
                    "data": {
                        "text/plain": [
                            "LABEL\n",
                            "Canadian    30\n",
                            "Kama        30\n",
                            "Rosa        30\n",
                            "Name: count, dtype: int64"
                        ]
                    },
                    "execution_count": 325,
                    "metadata": {},
                    "output_type": "execute_result"
                }
            ],
            "source": [
                "seed_data[\"LABEL\"].value_counts()"
            ]
        },
        {
            "cell_type": "code",
            "execution_count": 326,
            "metadata": {},
            "outputs": [],
            "source": [
                "from sklearn.preprocessing import LabelEncoder\n",
                "\n",
                "le = LabelEncoder()\n",
                "seed_data['LABEL'] = le.fit_transform(seed_data['LABEL'])"
            ]
        },
        {
            "cell_type": "code",
            "execution_count": 327,
            "metadata": {},
            "outputs": [],
            "source": [
                "X = seed_data.drop(\"LABEL\", axis=1)\n",
                "y = seed_data[\"LABEL\"]"
            ]
        },
        {
            "cell_type": "code",
            "execution_count": 328,
            "metadata": {},
            "outputs": [],
            "source": [
                "X_train_raw, X_test_raw, y_train, y_test = train_test_split(\n",
                "    X, y, test_size=0.2, stratify=y, random_state=42\n",
                ")"
            ]
        },
        {
            "cell_type": "markdown",
            "metadata": {},
            "source": [
                "### Gaussian Naïve Bayes"
            ]
        },
        {
            "cell_type": "code",
            "execution_count": 329,
            "metadata": {},
            "outputs": [
                {
                    "name": "stdout",
                    "output_type": "stream",
                    "text": [
                        "==== Gaussian Naive Bayes ====\n",
                        "Training Data (Gaussian):\n",
                        "      area  perimeter  compactness  length  width  asymmetry  groove_length\n",
                        "9   12.26      13.60       0.8333   5.408  2.833      4.756          5.360\n",
                        "15  11.02      13.00       0.8189   5.325  2.701      6.735          5.163\n",
                        "76  20.16      17.03       0.8735   6.513  3.773      1.910          6.185\n",
                        "22  12.19      13.36       0.8579   5.240  2.909      4.857          5.158\n",
                        "49  14.99      14.56       0.8883   5.570  3.377      2.958          5.175\n",
                        "\n",
                        "Training Labels:\n",
                        " 9     0\n",
                        "15    0\n",
                        "76    2\n",
                        "22    0\n",
                        "49    1\n",
                        "Name: LABEL, dtype: int64\n",
                        "\n",
                        "Testing Data (Gaussian):\n",
                        "      area  perimeter  compactness  length  width  asymmetry  groove_length\n",
                        "71  17.12      15.55       0.8892   5.850  3.566      2.858          5.746\n",
                        "10  11.55      13.10       0.8455   5.167  2.845      6.715          4.956\n",
                        "44  12.36      13.19       0.8923   5.076  3.042      3.220          4.605\n",
                        "39  13.89      14.02       0.8880   5.439  3.199      3.986          4.738\n",
                        "74  15.38      14.90       0.8706   5.884  3.268      4.462          5.795\n",
                        "\n",
                        "Testing Labels:\n",
                        " 71    2\n",
                        "10    0\n",
                        "44    1\n",
                        "39    1\n",
                        "74    2\n",
                        "Name: LABEL, dtype: int64\n"
                    ]
                }
            ],
            "source": [
                "print(\"==== Gaussian Naive Bayes ====\")\n",
                "print(\"Training Data (Gaussian):\\n\", X_train_raw.head())\n",
                "print(\"\\nTraining Labels:\\n\", y_train.head())\n",
                "print(\"\\nTesting Data (Gaussian):\\n\", X_test_raw.head())\n",
                "print(\"\\nTesting Labels:\\n\", y_test.head())"
            ]
        },
        {
            "cell_type": "code",
            "execution_count": 330,
            "metadata": {},
            "outputs": [],
            "source": [
                "gnb = GaussianNB()\n",
                "gnb.fit(X_train_raw, y_train)\n",
                "y_pred_gnb = gnb.predict(X_test_raw)\n",
                "y_proba_gnb = gnb.predict_proba(X_test_raw)"
            ]
        },
        {
            "cell_type": "code",
            "execution_count": 331,
            "metadata": {},
            "outputs": [
                {
                    "name": "stdout",
                    "output_type": "stream",
                    "text": [
                        "\n",
                        "Accuracy: 0.8888888888888888\n",
                        "\n",
                        "Classification Report:\n",
                        "               precision    recall  f1-score   support\n",
                        "\n",
                        "           0       0.86      1.00      0.92         6\n",
                        "           1       0.83      0.83      0.83         6\n",
                        "           2       1.00      0.83      0.91         6\n",
                        "\n",
                        "    accuracy                           0.89        18\n",
                        "   macro avg       0.90      0.89      0.89        18\n",
                        "weighted avg       0.90      0.89      0.89        18\n",
                        "\n"
                    ]
                }
            ],
            "source": [
                "print(\"\\nAccuracy:\", accuracy_score(y_test, y_pred_gnb))\n",
                "print(\"\\nClassification Report:\\n\", classification_report(y_test, y_pred_gnb))"
            ]
        },
        {
            "cell_type": "code",
            "execution_count": 332,
            "metadata": {},
            "outputs": [
                {
                    "data": {
                        "image/png": "[encoded data removed]",
                        "text/plain": [
                            "<Figure size 640x480 with 2 Axes>"
                        ]
                    },
                    "metadata": {},
                    "output_type": "display_data"
                }
            ],
            "source": [
                "ConfusionMatrixDisplay.from_predictions(y_test, y_pred_gnb, cmap=\"Blues\")\n",
                "plt.title(\"Gaussian Naive Bayes - Confusion Matrix\")\n",
                "plt.show()"
            ]
        },
        {
            "cell_type": "code",
            "execution_count": 333,
            "metadata": {},
            "outputs": [
                {
                    "name": "stdout",
                    "output_type": "stream",
                    "text": [
                        "\n",
                        "Prediction Probabilities (first 10 rows):\n",
                        "   Prob_Class_0  Prob_Class_1  Prob_Class_2\n",
                        "0  2.371330e-29  1.693809e-04  9.998306e-01\n",
                        "1  1.000000e+00  1.953322e-12  8.492559e-26\n",
                        "2  8.538029e-01  1.461971e-01  3.798217e-17\n",
                        "3  2.870518e-05  9.999713e-01  1.091805e-12\n",
                        "4  9.781740e-15  9.278424e-01  7.215765e-02\n",
                        "5  1.578700e-12  9.999996e-01  3.532665e-07\n",
                        "6  1.000000e+00  1.163711e-08  1.730012e-23\n",
                        "7  2.005459e-65  8.913675e-20  1.000000e+00\n",
                        "8  3.196377e-24  1.503113e-04  9.998497e-01\n",
                        "9  1.000000e+00  1.976089e-09  1.020962e-24\n"
                    ]
                }
            ],
            "source": [
                "print(\"\\nPrediction Probabilities (first 10 rows):\")\n",
                "print(pd.DataFrame(y_proba_gnb, columns=[f\"Prob_Class_{cls}\" for cls in gnb.classes_]).head(10))"
            ]
        },
        {
            "cell_type": "markdown",
            "metadata": {},
            "source": [
                "### Categorical Naive Bayes"
            ]
        },
        {
            "cell_type": "code",
            "execution_count": 334,
            "metadata": {},
            "outputs": [],
            "source": [
                "cat_encoder = KBinsDiscretizer(n_bins=5, encode='ordinal', strategy='uniform')\n",
                "X_train_cat = cat_encoder.fit_transform(X_train_raw)\n",
                "X_test_cat = cat_encoder.transform(X_test_raw)"
            ]
        },
        {
            "cell_type": "code",
            "execution_count": 335,
            "metadata": {},
            "outputs": [
                {
                    "name": "stdout",
                    "output_type": "stream",
                    "text": [
                        "Training Data (Categorical - binned):\n",
                        "    area  perimeter  compactness  length  width  asymmetry  groove_length\n",
                        "0   0.0        1.0          1.0     1.0    0.0        2.0            1.0\n",
                        "1   0.0        0.0          0.0     1.0    0.0        3.0            1.0\n",
                        "2   4.0        4.0          2.0     4.0    4.0        0.0            4.0\n",
                        "3   0.0        0.0          2.0     1.0    0.0        2.0            1.0\n",
                        "4   2.0        2.0          3.0     1.0    2.0        1.0            1.0\n",
                        "\n",
                        "Training Labels:\n",
                        " 9     0\n",
                        "15    0\n",
                        "76    2\n",
                        "22    0\n",
                        "49    1\n",
                        "Name: LABEL, dtype: int64\n",
                        "\n",
                        "Testing Data (Categorical - binned):\n",
                        "    area  perimeter  compactness  length  width  asymmetry  groove_length\n",
                        "0   3.0        3.0          3.0     2.0    3.0        1.0            3.0\n",
                        "1   0.0        0.0          1.0     0.0    0.0        3.0            0.0\n",
                        "2   0.0        0.0          3.0     0.0    1.0        1.0            0.0\n",
                        "3   1.0        1.0          3.0     1.0    2.0        2.0            0.0\n",
                        "4   2.0        2.0          2.0     2.0    2.0        2.0            3.0\n",
                        "\n",
                        "Testing Labels:\n",
                        " 71    2\n",
                        "10    0\n",
                        "44    1\n",
                        "39    1\n",
                        "74    2\n",
                        "Name: LABEL, dtype: int64\n"
                    ]
                }
            ],
            "source": [
                "print(\"Training Data (Categorical - binned):\\n\", pd.DataFrame(X_train_cat, columns=X.columns).head())\n",
                "print(\"\\nTraining Labels:\\n\", y_train.head())\n",
                "print(\"\\nTesting Data (Categorical - binned):\\n\", pd.DataFrame(X_test_cat, columns=X.columns).head())\n",
                "print(\"\\nTesting Labels:\\n\", y_test.head())"
            ]
        },
        {
            "cell_type": "code",
            "execution_count": 336,
            "metadata": {},
            "outputs": [],
            "source": [
                "cnb = CategoricalNB()\n",
                "cnb.fit(X_train_cat, y_train)\n",
                "y_pred_cnb = cnb.predict(X_test_cat)\n",
                "y_proba_cnb = cnb.predict_proba(X_test_cat)"
            ]
        },
        {
            "cell_type": "code",
            "execution_count": 337,
            "metadata": {},
            "outputs": [
                {
                    "name": "stdout",
                    "output_type": "stream",
                    "text": [
                        "\n",
                        "Accuracy: 0.8888888888888888\n",
                        "\n",
                        "Classification Report:\n",
                        "               precision    recall  f1-score   support\n",
                        "\n",
                        "           0       0.86      1.00      0.92         6\n",
                        "           1       0.83      0.83      0.83         6\n",
                        "           2       1.00      0.83      0.91         6\n",
                        "\n",
                        "    accuracy                           0.89        18\n",
                        "   macro avg       0.90      0.89      0.89        18\n",
                        "weighted avg       0.90      0.89      0.89        18\n",
                        "\n"
                    ]
                }
            ],
            "source": [
                "print(\"\\nAccuracy:\", accuracy_score(y_test, y_pred_cnb))\n",
                "print(\"\\nClassification Report:\\n\", classification_report(y_test, y_pred_cnb))"
            ]
        },
        {
            "cell_type": "code",
            "execution_count": 338,
            "metadata": {},
            "outputs": [
                {
                    "data": {
                        "image/png": "[encoded data removed]",
                        "text/plain": [
                            "<Figure size 640x480 with 2 Axes>"
                        ]
                    },
                    "metadata": {},
                    "output_type": "display_data"
                }
            ],
            "source": [
                "ConfusionMatrixDisplay.from_predictions(y_test, y_pred_cnb, cmap=\"Greens\")\n",
                "plt.title(\"Categorical Naive Bayes - Confusion Matrix\")\n",
                "plt.show()"
            ]
        },
        {
            "cell_type": "code",
            "execution_count": 339,
            "metadata": {},
            "outputs": [
                {
                    "name": "stdout",
                    "output_type": "stream",
                    "text": [
                        "\n",
                        "Prediction Probabilities (first 10 rows):\n",
                        "   Prob_Class_0  Prob_Class_1  Prob_Class_2\n",
                        "0      0.000001      0.001107  9.988921e-01\n",
                        "1      0.999991      0.000009  4.499112e-07\n",
                        "2      0.929411      0.070250  3.387066e-04\n",
                        "3      0.075551      0.924383  6.666222e-05\n",
                        "4      0.000189      0.954842  4.496902e-02\n",
                        "5      0.000002      0.999409  5.883493e-04\n",
                        "6      0.998563      0.001415  2.211245e-05\n",
                        "7      0.000002      0.000047  9.999504e-01\n",
                        "8      0.000369      0.240017  7.596139e-01\n",
                        "9      0.999914      0.000083  2.604985e-06\n"
                    ]
                }
            ],
            "source": [
                "print(\"\\nPrediction Probabilities (first 10 rows):\")\n",
                "print(pd.DataFrame(y_proba_cnb, columns=[f\"Prob_Class_{cls}\" for cls in cnb.classes_]).head(10))"
            ]
        },
        {
            "cell_type": "markdown",
            "metadata": {},
            "source": [
                "### Multinomial Naive Bayes"
            ]
        },
        {
            "cell_type": "code",
            "execution_count": 340,
            "metadata": {},
            "outputs": [
                {
                    "name": "stdout",
                    "output_type": "stream",
                    "text": [
                        "\n",
                        "==== Multinomial Naive Bayes ====\n",
                        "Training Data (Multinomial - simulated counts):\n",
                        "    area  perimeter  compactness  length  width  asymmetry  groove_length\n",
                        "0    16         25           23      30     14         53             39\n",
                        "1     4         12           10      25      5         79             29\n",
                        "2    90         95           59      96     81         15             85\n",
                        "3    15         20           45      20     20         54             28\n",
                        "4    42         44           73      40     53         29             29\n",
                        "\n",
                        "Training Labels:\n",
                        " 9     0\n",
                        "15    0\n",
                        "76    2\n",
                        "22    0\n",
                        "49    1\n",
                        "Name: LABEL, dtype: int64\n",
                        "\n",
                        "Testing Data (Multinomial - simulated counts):\n",
                        "    area  perimeter  compactness  length  width  asymmetry  groove_length\n",
                        "0    62         65           74      57     67         28             61\n",
                        "1     9         14           34      16     15         79             17\n",
                        "2    17         16           76      11     29         33             -2\n",
                        "3    31         33           72      32     41         43              5\n",
                        "4    45         51           57      59     45         49             64\n",
                        "\n",
                        "Testing Labels:\n",
                        " 71    2\n",
                        "10    0\n",
                        "44    1\n",
                        "39    1\n",
                        "74    2\n",
                        "Name: LABEL, dtype: int64\n"
                    ]
                }
            ],
            "source": [
                "print(\"\\n==== Multinomial Naive Bayes ====\")\n",
                "scaler = MinMaxScaler()\n",
                "X_train_scaled = scaler.fit_transform(X_train_raw)\n",
                "X_test_scaled = scaler.transform(X_test_raw)\n",
                "\n",
                "X_train_mnb = np.round(X_train_scaled * 100).astype(int)\n",
                "X_test_mnb = np.round(X_test_scaled * 100).astype(int)\n",
                "\n",
                "\n",
                "print(\"Training Data (Multinomial - simulated counts):\\n\", pd.DataFrame(X_train_mnb, columns=X.columns).head())\n",
                "print(\"\\nTraining Labels:\\n\", y_train.head())\n",
                "print(\"\\nTesting Data (Multinomial - simulated counts):\\n\", pd.DataFrame(X_test_mnb, columns=X.columns).head())\n",
                "print(\"\\nTesting Labels:\\n\", y_test.head())"
            ]
        },
        {
            "cell_type": "code",
            "execution_count": 341,
            "metadata": {},
            "outputs": [],
            "source": [
                "mnb = MultinomialNB()\n",
                "mnb.fit(X_train_mnb, y_train)\n",
                "y_pred_mnb = mnb.predict(X_test_mnb)\n",
                "y_proba_mnb = mnb.predict_proba(X_test_mnb)"
            ]
        },
        {
            "cell_type": "code",
            "execution_count": 342,
            "metadata": {},
            "outputs": [
                {
                    "name": "stdout",
                    "output_type": "stream",
                    "text": [
                        "\n",
                        "Accuracy: 1.0\n",
                        "\n",
                        "Classification Report:\n",
                        "               precision    recall  f1-score   support\n",
                        "\n",
                        "           0       1.00      1.00      1.00         6\n",
                        "           1       1.00      1.00      1.00         6\n",
                        "           2       1.00      1.00      1.00         6\n",
                        "\n",
                        "    accuracy                           1.00        18\n",
                        "   macro avg       1.00      1.00      1.00        18\n",
                        "weighted avg       1.00      1.00      1.00        18\n",
                        "\n"
                    ]
                }
            ],
            "source": [
                "print(\"\\nAccuracy:\", accuracy_score(y_test, y_pred_mnb))\n",
                "print(\"\\nClassification Report:\\n\", classification_report(y_test, y_pred_mnb))"
            ]
        },
        {
            "cell_type": "code",
            "execution_count": 343,
            "metadata": {},
            "outputs": [
                {
                    "data": {
                        "image/png": "[encoded data removed]",
                        "text/plain": [
                            "<Figure size 640x480 with 2 Axes>"
                        ]
                    },
                    "metadata": {},
                    "output_type": "display_data"
                }
            ],
            "source": [
                "ConfusionMatrixDisplay.from_predictions(y_test, y_pred_mnb, cmap=\"Oranges\")\n",
                "plt.title(\"Multinomial Naive Bayes - Confusion Matrix\")\n",
                "plt.show()"
            ]
        },
        {
            "cell_type": "code",
            "execution_count": 344,
            "metadata": {},
            "outputs": [
                {
                    "name": "stdout",
                    "output_type": "stream",
                    "text": [
                        "\n",
                        "Prediction Probabilities (first 10 rows):\n",
                        "   Prob_Class_0  Prob_Class_1  Prob_Class_2\n",
                        "0  9.629551e-43  1.449929e-04  9.998550e-01\n",
                        "1  1.000000e+00  4.853602e-36  1.053880e-41\n",
                        "2  5.556239e-13  1.000000e+00  1.011697e-17\n",
                        "3  1.089456e-16  1.000000e+00  3.093161e-13\n",
                        "4  3.573955e-13  4.186082e-07  9.999996e-01\n",
                        "5  1.034391e-32  1.000000e+00  1.571292e-08\n",
                        "6  9.999999e-01  5.648668e-08  1.477636e-14\n",
                        "7  1.854602e-56  2.056397e-17  1.000000e+00\n",
                        "8  1.308861e-14  9.725988e-06  9.999903e-01\n",
                        "9  1.000000e+00  9.761504e-13  9.969593e-24\n"
                    ]
                }
            ],
            "source": [
                "print(\"\\nPrediction Probabilities (first 10 rows):\")\n",
                "print(pd.DataFrame(y_proba_mnb, columns=[f\"Prob_Class_{cls}\" for cls in mnb.classes_]).head(10))"
            ]
        },
        {
            "cell_type": "markdown",
            "metadata": {},
            "source": [
                "Multinomial Naive Bayes works best with data that shows how often something happens, like counts or frequencies. All the values should be whole numbers (like 0, 1, 2…) and must not be negative. If your data has decimal numbers, you can scale and round them to make them look like counts. This model cannot work with missing values, so you need to fill or remove them first. It also doesn’t need scaling or normalization.\n"
            ]
        },
        {
            "cell_type": "code",
            "execution_count": 345,
            "metadata": {},
            "outputs": [
                {
                    "data": {
                        "image/png": "[encoded data removed]",
                        "text/plain": [
                            "<Figure size 1000x600 with 1 Axes>"
                        ]
                    },
                    "metadata": {},
                    "output_type": "display_data"
                }
            ],
            "source": [
                "import matplotlib.pyplot as plt\n",
                "\n",
                "models = [\n",
                "    \"Multinomial NB\", \"Decision Tree\", \"Gaussian NB\",\n",
                "    \"Categorical NB\", \"SVM Linear\", \"SVM RBF\", \"SVM Poly\"\n",
                "]\n",
                "accuracies = [1.00, 0.94, 0.89, 0.89, 0.89, 0.89, 0.89]\n",
                "\n",
                "plt.figure(figsize=(10, 6))\n",
                "bars = plt.bar(models, accuracies, color='teal')\n",
                "plt.ylim(0.85, 1.05)\n",
                "plt.ylabel(\"Accuracy\")\n",
                "plt.title(\"Model Accuracy Comparison\")\n",
                "plt.xticks(rotation=45)\n",
                "for bar in bars:\n",
                "    yval = bar.get_height()\n",
                "    plt.text(bar.get_x() + bar.get_width()/2, yval + 0.01, f\"{yval:.2f}\", ha='center')\n",
                "plt.grid(axis='y', linestyle='--', alpha=0.6)\n",
                "plt.tight_layout()\n",
                "plt.show()\n"
            ]
        }
    ],
    "metadata": {
        "kernelspec": {
            "display_name": "mlpro",
            "language": "python",
            "name": "python3"
        },
        "language_info": {
            "codemirror_mode": {
                "name": "ipython",
                "version": 3
            },
            "file_extension": ".py",
            "mimetype": "text/x-python",
            "name": "python",
            "nbconvert_exporter": "python",
            "pygments_lexer": "ipython3",
            "version": "3.9.21"
        }
    },
    "nbformat": 4,
    "nbformat_minor": 2
}
